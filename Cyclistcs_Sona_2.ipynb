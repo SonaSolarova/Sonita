{
 "cells": [
  {
   "cell_type": "code",
   "execution_count": 1,
   "id": "78bb0e92",
   "metadata": {},
   "outputs": [],
   "source": [
    "import pandas as pd\n",
    "import matplotlib.pyplot as plt\n",
    "import seaborn as sns\n",
    "import numpy as np\n",
    "import os\n",
    "\n",
    "sns.set_style(\"darkgrid\")"
   ]
  },
  {
   "cell_type": "code",
   "execution_count": 2,
   "id": "9e130647",
   "metadata": {},
   "outputs": [],
   "source": [
    "path = '/Users/SonaSolarova/Documents/STUDIUM/Google_Certificate/8_Capstone_Case Study/case_study_Cyclistic/unpacked_data/08_2021_07_2022'\n",
    "paths_list = [\n",
    "    os.path.join(path, f) for f in os.listdir(path)\n",
    "    if os.path.isfile(os.path.join(path, f))\n",
    "]"
   ]
  },
  {
   "cell_type": "code",
   "execution_count": 3,
   "id": "a9ab3c96",
   "metadata": {},
   "outputs": [
    {
     "data": {
      "text/plain": [
       "dict_keys(['202205-divvy-tripdata', '202109-divvy-tripdata', '202206-divvy-tripdata', '202111-divvy-tripdata', '202112-divvy-tripdata', '202203-divvy-tripdata', '202202-divvy-tripdata', '202201-divvy-tripdata', '202110-divvy-tripdata', '202207-divvy-tripdata', '202204-divvy-tripdata', '202108-divvy-tripdata'])"
      ]
     },
     "execution_count": 3,
     "metadata": {},
     "output_type": "execute_result"
    }
   ],
   "source": [
    "dataframes = {}\n",
    "for i, f in enumerate(os.listdir(path)):\n",
    "    dataframes[f.split('.')[0]] = pd.read_csv(paths_list[i])\n",
    "dataframes.keys()"
   ]
  },
  {
   "cell_type": "code",
   "execution_count": 5,
   "id": "f8c742fd",
   "metadata": {},
   "outputs": [
    {
     "name": "stdout",
     "output_type": "stream",
     "text": [
      "                 ride_id  rideable_type           started_at  \\\n",
      "0       EC2DE40644C6B0F4   classic_bike  2022-05-23 23:06:58   \n",
      "1       1C31AD03897EE385   classic_bike  2022-05-11 08:53:28   \n",
      "2       1542FBEC830415CF   classic_bike  2022-05-26 18:36:28   \n",
      "3       6FF59852924528F8   classic_bike  2022-05-10 07:30:07   \n",
      "4       483C52CAAE12E3AC   classic_bike  2022-05-10 17:31:56   \n",
      "...                  ...            ...                  ...   \n",
      "804347  5E5C9CD681E0419C   classic_bike  2021-08-07 18:07:43   \n",
      "804348  96FB57CF4AA456F6  electric_bike  2021-08-09 08:49:31   \n",
      "804349  226A0910DCCE904C   classic_bike  2021-08-12 16:55:57   \n",
      "804350  1A97D27AE23DE1E7   classic_bike  2021-08-08 22:47:43   \n",
      "804351  BBC36E4AA3652361  electric_bike  2021-08-27 18:53:53   \n",
      "\n",
      "                   ended_at                 start_station_name  \\\n",
      "0       2022-05-23 23:40:19             Wabash Ave & Grand Ave   \n",
      "1       2022-05-11 09:31:22  DuSable Lake Shore Dr & Monroe St   \n",
      "2       2022-05-26 18:58:18            Clinton St & Madison St   \n",
      "3       2022-05-10 07:38:49            Clinton St & Madison St   \n",
      "4       2022-05-10 17:36:57            Clinton St & Madison St   \n",
      "...                     ...                                ...   \n",
      "804347  2021-08-07 18:21:21           Wells St & Evergreen Ave   \n",
      "804348  2021-08-09 09:03:51             Broadway & Sheridan Rd   \n",
      "804349  2021-08-12 17:15:10             Dearborn St & Adams St   \n",
      "804350  2021-08-08 23:08:12             Broadway & Sheridan Rd   \n",
      "804351  2021-08-27 19:02:16            Paulina Ave & North Ave   \n",
      "\n",
      "       start_station_id             end_station_name end_station_id  \\\n",
      "0          TA1307000117       Halsted St & Roscoe St   TA1309000025   \n",
      "1                 13300  Field Blvd & South Water St          15534   \n",
      "2          TA1305000032      Wood St & Milwaukee Ave          13221   \n",
      "3          TA1305000032       Clark St & Randolph St   TA1305000030   \n",
      "4          TA1305000032          Morgan St & Lake St   TA1306000015   \n",
      "...                 ...                          ...            ...   \n",
      "804347     TA1308000049  Lincoln Ave & Diversey Pkwy   TA1307000064   \n",
      "804348            13323       Clark St & Lincoln Ave          13179   \n",
      "804349     TA1305000005       Clark St & Lincoln Ave          13179   \n",
      "804350            13323      Clark St & Winnemac Ave   TA1309000035   \n",
      "804351     TA1305000037        Dayton St & North Ave          13058   \n",
      "\n",
      "        start_lat  start_lng    end_lat    end_lng member_casual  \n",
      "0       41.891466 -87.626761  41.943670 -87.648950        member  \n",
      "1       41.880958 -87.616743  41.886349 -87.617517        member  \n",
      "2       41.882242 -87.641066  41.907655 -87.672552        member  \n",
      "3       41.882242 -87.641066  41.884576 -87.631890        member  \n",
      "4       41.882242 -87.641066  41.885779 -87.651025        member  \n",
      "...           ...        ...        ...        ...           ...  \n",
      "804347  41.906724 -87.634830  41.932225 -87.658617        member  \n",
      "804348  41.952709 -87.649940  41.915973 -87.634762        member  \n",
      "804349  41.879356 -87.629791  41.915689 -87.634600        member  \n",
      "804350  41.952833 -87.649993  41.973348 -87.667855        casual  \n",
      "804351  41.909851 -87.669808  41.910674 -87.649547        casual  \n",
      "\n",
      "[5901463 rows x 13 columns]\n"
     ]
    }
   ],
   "source": [
    "df1 = dataframes['202205-divvy-tripdata']\n",
    "df2 = dataframes['202109-divvy-tripdata']\n",
    "df3 = dataframes['202206-divvy-tripdata']\n",
    "df4 = dataframes['202111-divvy-tripdata']\n",
    "df5 = dataframes['202112-divvy-tripdata']\n",
    "df6 = dataframes['202203-divvy-tripdata']\n",
    "df7 = dataframes['202202-divvy-tripdata']\n",
    "df8 = dataframes['202201-divvy-tripdata']\n",
    "df9 = dataframes['202110-divvy-tripdata']\n",
    "df10 = dataframes['202207-divvy-tripdata']\n",
    "df11 = dataframes['202204-divvy-tripdata']\n",
    "df12 = dataframes['202108-divvy-tripdata']\n",
    "union = pd.concat([df1, df2, df3, df4, df5, df6, df7, df8, df9, df10, df11, df12])\n",
    "print(union)"
   ]
  },
  {
   "cell_type": "code",
   "execution_count": 6,
   "id": "4bad6cb6",
   "metadata": {},
   "outputs": [
    {
     "data": {
      "text/plain": [
       "1381"
      ]
     },
     "execution_count": 6,
     "metadata": {},
     "output_type": "execute_result"
    }
   ],
   "source": [
    "union['start_station_name'].nunique()"
   ]
  },
  {
   "cell_type": "code",
   "execution_count": 8,
   "id": "8097cb68",
   "metadata": {},
   "outputs": [
    {
     "data": {
      "text/plain": [
       "1396"
      ]
     },
     "execution_count": 8,
     "metadata": {},
     "output_type": "execute_result"
    }
   ],
   "source": [
    "union['end_station_name'].nunique()"
   ]
  },
  {
   "cell_type": "code",
   "execution_count": 9,
   "id": "f66ceb99",
   "metadata": {},
   "outputs": [
    {
     "data": {
      "text/plain": [
       "1226"
      ]
     },
     "execution_count": 9,
     "metadata": {},
     "output_type": "execute_result"
    }
   ],
   "source": [
    "union['start_station_id'].nunique()"
   ]
  },
  {
   "cell_type": "code",
   "execution_count": 10,
   "id": "deaa8608",
   "metadata": {},
   "outputs": [
    {
     "data": {
      "text/plain": [
       "1236"
      ]
     },
     "execution_count": 10,
     "metadata": {},
     "output_type": "execute_result"
    }
   ],
   "source": [
    "union['end_station_id'].nunique()"
   ]
  },
  {
   "cell_type": "code",
   "execution_count": 11,
   "id": "a3cfdde3",
   "metadata": {},
   "outputs": [
    {
     "data": {
      "text/plain": [
       "5901463"
      ]
     },
     "execution_count": 11,
     "metadata": {},
     "output_type": "execute_result"
    }
   ],
   "source": [
    "union['ride_id'].nunique()"
   ]
  },
  {
   "cell_type": "code",
   "execution_count": 13,
   "id": "c559dd81",
   "metadata": {},
   "outputs": [
    {
     "data": {
      "text/plain": [
       "member    3379237\n",
       "casual    2522226\n",
       "Name: member_casual, dtype: int64"
      ]
     },
     "execution_count": 13,
     "metadata": {},
     "output_type": "execute_result"
    }
   ],
   "source": [
    "union['member_casual'].value_counts()"
   ]
  },
  {
   "cell_type": "code",
   "execution_count": 28,
   "id": "3ee6c11f",
   "metadata": {},
   "outputs": [
    {
     "ename": "SyntaxError",
     "evalue": "invalid syntax (146747603.py, line 1)",
     "output_type": "error",
     "traceback": [
      "\u001b[0;36m  Input \u001b[0;32mIn [28]\u001b[0;36m\u001b[0m\n\u001b[0;31m    git init\u001b[0m\n\u001b[0m        ^\u001b[0m\n\u001b[0;31mSyntaxError\u001b[0m\u001b[0;31m:\u001b[0m invalid syntax\n"
     ]
    }
   ],
   "source": [
    "git init\n",
    "git add README.md  \n",
    "git add GeeksForGeeks.ipynb\n",
    "git commit -m \"Cyclistic_Capstone_project\" \n",
    "git remote add origin https://github.com/{Sonita}/GeeksForGeeks.git \n",
    "git push -u origin master \n"
   ]
  },
  {
   "cell_type": "code",
   "execution_count": 38,
   "id": "ee4bd70f",
   "metadata": {},
   "outputs": [
    {
     "data": {
      "text/html": [
       "<div>\n",
       "<style scoped>\n",
       "    .dataframe tbody tr th:only-of-type {\n",
       "        vertical-align: middle;\n",
       "    }\n",
       "\n",
       "    .dataframe tbody tr th {\n",
       "        vertical-align: top;\n",
       "    }\n",
       "\n",
       "    .dataframe thead th {\n",
       "        text-align: right;\n",
       "    }\n",
       "</style>\n",
       "<table border=\"1\" class=\"dataframe\">\n",
       "  <thead>\n",
       "    <tr style=\"text-align: right;\">\n",
       "      <th></th>\n",
       "      <th>start_lat</th>\n",
       "      <th>start_lng</th>\n",
       "      <th>end_lat</th>\n",
       "      <th>end_lng</th>\n",
       "    </tr>\n",
       "    <tr>\n",
       "      <th>start_station_id</th>\n",
       "      <th></th>\n",
       "      <th></th>\n",
       "      <th></th>\n",
       "      <th></th>\n",
       "    </tr>\n",
       "  </thead>\n",
       "  <tbody>\n",
       "    <tr>\n",
       "      <th>021320</th>\n",
       "      <td>5864.600000</td>\n",
       "      <td>-12275.200000</td>\n",
       "      <td>5866.000309</td>\n",
       "      <td>-12274.513330</td>\n",
       "    </tr>\n",
       "    <tr>\n",
       "      <th>1011</th>\n",
       "      <td>1718.720000</td>\n",
       "      <td>-3599.390000</td>\n",
       "      <td>1718.900000</td>\n",
       "      <td>-3598.960000</td>\n",
       "    </tr>\n",
       "    <tr>\n",
       "      <th>1012</th>\n",
       "      <td>209.010000</td>\n",
       "      <td>-438.050000</td>\n",
       "      <td>209.034982</td>\n",
       "      <td>-438.073124</td>\n",
       "    </tr>\n",
       "    <tr>\n",
       "      <th>1013</th>\n",
       "      <td>293.230000</td>\n",
       "      <td>-614.110000</td>\n",
       "      <td>293.254603</td>\n",
       "      <td>-614.056304</td>\n",
       "    </tr>\n",
       "    <tr>\n",
       "      <th>1016</th>\n",
       "      <td>41.990000</td>\n",
       "      <td>-87.720000</td>\n",
       "      <td>41.980000</td>\n",
       "      <td>-87.690000</td>\n",
       "    </tr>\n",
       "    <tr>\n",
       "      <th>...</th>\n",
       "      <td>...</td>\n",
       "      <td>...</td>\n",
       "      <td>...</td>\n",
       "      <td>...</td>\n",
       "    </tr>\n",
       "    <tr>\n",
       "      <th>chargingstx0</th>\n",
       "      <td>2306.283185</td>\n",
       "      <td>-4820.899030</td>\n",
       "      <td>2306.010169</td>\n",
       "      <td>-4820.865661</td>\n",
       "    </tr>\n",
       "    <tr>\n",
       "      <th>chargingstx1</th>\n",
       "      <td>215544.266579</td>\n",
       "      <td>-450707.638204</td>\n",
       "      <td>215423.287349</td>\n",
       "      <td>-450431.630513</td>\n",
       "    </tr>\n",
       "    <tr>\n",
       "      <th>chargingstx3</th>\n",
       "      <td>239783.565701</td>\n",
       "      <td>-501788.148789</td>\n",
       "      <td>239789.982280</td>\n",
       "      <td>-501674.348830</td>\n",
       "    </tr>\n",
       "    <tr>\n",
       "      <th>chargingstx4</th>\n",
       "      <td>134745.658662</td>\n",
       "      <td>-281977.495536</td>\n",
       "      <td>134684.049968</td>\n",
       "      <td>-281791.120145</td>\n",
       "    </tr>\n",
       "    <tr>\n",
       "      <th>chargingstx5</th>\n",
       "      <td>145879.029468</td>\n",
       "      <td>-304918.680704</td>\n",
       "      <td>145825.347604</td>\n",
       "      <td>-304807.869721</td>\n",
       "    </tr>\n",
       "  </tbody>\n",
       "</table>\n",
       "<p>1226 rows × 4 columns</p>\n",
       "</div>"
      ],
      "text/plain": [
       "                      start_lat      start_lng        end_lat        end_lng\n",
       "start_station_id                                                            \n",
       "021320              5864.600000  -12275.200000    5866.000309  -12274.513330\n",
       "1011                1718.720000   -3599.390000    1718.900000   -3598.960000\n",
       "1012                 209.010000    -438.050000     209.034982    -438.073124\n",
       "1013                 293.230000    -614.110000     293.254603    -614.056304\n",
       "1016                  41.990000     -87.720000      41.980000     -87.690000\n",
       "...                         ...            ...            ...            ...\n",
       "chargingstx0        2306.283185   -4820.899030    2306.010169   -4820.865661\n",
       "chargingstx1      215544.266579 -450707.638204  215423.287349 -450431.630513\n",
       "chargingstx3      239783.565701 -501788.148789  239789.982280 -501674.348830\n",
       "chargingstx4      134745.658662 -281977.495536  134684.049968 -281791.120145\n",
       "chargingstx5      145879.029468 -304918.680704  145825.347604 -304807.869721\n",
       "\n",
       "[1226 rows x 4 columns]"
      ]
     },
     "execution_count": 38,
     "metadata": {},
     "output_type": "execute_result"
    }
   ],
   "source": [
    "union.groupby('start_station_id').sum()"
   ]
  },
  {
   "cell_type": "code",
   "execution_count": 41,
   "id": "55667842",
   "metadata": {},
   "outputs": [
    {
     "ename": "AttributeError",
     "evalue": "'DataFrame' object has no attribute 'create'",
     "output_type": "error",
     "traceback": [
      "\u001b[0;31m---------------------------------------------------------------------------\u001b[0m",
      "\u001b[0;31mAttributeError\u001b[0m                            Traceback (most recent call last)",
      "Input \u001b[0;32mIn [41]\u001b[0m, in \u001b[0;36m<cell line: 1>\u001b[0;34m()\u001b[0m\n\u001b[0;32m----> 1\u001b[0m union \u001b[38;5;241m=\u001b[39m \u001b[43munion\u001b[49m\u001b[38;5;241;43m.\u001b[39;49m\u001b[43mcreate\u001b[49m(columns\u001b[38;5;241m=\u001b[39m[\u001b[38;5;124m'\u001b[39m\u001b[38;5;124mstart_station_name\u001b[39m\u001b[38;5;124m'\u001b[39m,\u001b[38;5;124m'\u001b[39m\u001b[38;5;124mstart_station_id\u001b[39m\u001b[38;5;124m'\u001b[39m,\u001b[38;5;124m'\u001b[39m\u001b[38;5;124mend_station_name\u001b[39m\u001b[38;5;124m'\u001b[39m,\u001b[38;5;124m'\u001b[39m\u001b[38;5;124mend_station_id\u001b[39m\u001b[38;5;124m'\u001b[39m])\n\u001b[1;32m      2\u001b[0m union \u001b[38;5;241m=\u001b[39m union\u001b[38;5;241m.\u001b[39mdrop(columns\u001b[38;5;241m=\u001b[39m[\u001b[38;5;124m'\u001b[39m\u001b[38;5;124mstart_lat\u001b[39m\u001b[38;5;124m'\u001b[39m,\u001b[38;5;124m'\u001b[39m\u001b[38;5;124mstart_lng\u001b[39m\u001b[38;5;124m'\u001b[39m,\u001b[38;5;124m'\u001b[39m\u001b[38;5;124mend_lat\u001b[39m\u001b[38;5;124m'\u001b[39m,\u001b[38;5;124m'\u001b[39m\u001b[38;5;124mend_lng\u001b[39m\u001b[38;5;124m'\u001b[39m])\n\u001b[1;32m      3\u001b[0m union\u001b[38;5;241m.\u001b[39mtail()\n",
      "File \u001b[0;32m~/opt/anaconda3/lib/python3.9/site-packages/pandas/core/generic.py:5575\u001b[0m, in \u001b[0;36mNDFrame.__getattr__\u001b[0;34m(self, name)\u001b[0m\n\u001b[1;32m   5568\u001b[0m \u001b[38;5;28;01mif\u001b[39;00m (\n\u001b[1;32m   5569\u001b[0m     name \u001b[38;5;129;01mnot\u001b[39;00m \u001b[38;5;129;01min\u001b[39;00m \u001b[38;5;28mself\u001b[39m\u001b[38;5;241m.\u001b[39m_internal_names_set\n\u001b[1;32m   5570\u001b[0m     \u001b[38;5;129;01mand\u001b[39;00m name \u001b[38;5;129;01mnot\u001b[39;00m \u001b[38;5;129;01min\u001b[39;00m \u001b[38;5;28mself\u001b[39m\u001b[38;5;241m.\u001b[39m_metadata\n\u001b[1;32m   5571\u001b[0m     \u001b[38;5;129;01mand\u001b[39;00m name \u001b[38;5;129;01mnot\u001b[39;00m \u001b[38;5;129;01min\u001b[39;00m \u001b[38;5;28mself\u001b[39m\u001b[38;5;241m.\u001b[39m_accessors\n\u001b[1;32m   5572\u001b[0m     \u001b[38;5;129;01mand\u001b[39;00m \u001b[38;5;28mself\u001b[39m\u001b[38;5;241m.\u001b[39m_info_axis\u001b[38;5;241m.\u001b[39m_can_hold_identifiers_and_holds_name(name)\n\u001b[1;32m   5573\u001b[0m ):\n\u001b[1;32m   5574\u001b[0m     \u001b[38;5;28;01mreturn\u001b[39;00m \u001b[38;5;28mself\u001b[39m[name]\n\u001b[0;32m-> 5575\u001b[0m \u001b[38;5;28;01mreturn\u001b[39;00m \u001b[38;5;28;43mobject\u001b[39;49m\u001b[38;5;241;43m.\u001b[39;49m\u001b[38;5;21;43m__getattribute__\u001b[39;49m\u001b[43m(\u001b[49m\u001b[38;5;28;43mself\u001b[39;49m\u001b[43m,\u001b[49m\u001b[43m \u001b[49m\u001b[43mname\u001b[49m\u001b[43m)\u001b[49m\n",
      "\u001b[0;31mAttributeError\u001b[0m: 'DataFrame' object has no attribute 'create'"
     ]
    }
   ],
   "source": [
    "union = union.create(columns=['start_station_name','start_station_id','end_station_name','end_station_id'])\n",
    "union = union.drop(columns=['start_lat','start_lng','end_lat','end_lng'])\n",
    "union.tail()"
   ]
  },
  {
   "cell_type": "code",
   "execution_count": 43,
   "id": "489ce295",
   "metadata": {},
   "outputs": [
    {
     "data": {
      "text/plain": [
       "dict_keys(['202205-divvy-tripdata', '202109-divvy-tripdata', '202206-divvy-tripdata', '202111-divvy-tripdata', '202112-divvy-tripdata', '202203-divvy-tripdata', '202202-divvy-tripdata', '202201-divvy-tripdata', '202110-divvy-tripdata', '202207-divvy-tripdata', '202204-divvy-tripdata', '202108-divvy-tripdata'])"
      ]
     },
     "execution_count": 43,
     "metadata": {},
     "output_type": "execute_result"
    }
   ],
   "source": [
    "# Import files \n",
    "dataframes = {}\n",
    "for i, f in enumerate(os.listdir(path)):\n",
    "    dataframes[f.split('.')[0]] = pd.read_csv(paths_list[i])\n",
    "dataframes.keys()"
   ]
  },
  {
   "cell_type": "code",
   "execution_count": 44,
   "id": "c3e33497",
   "metadata": {},
   "outputs": [
    {
     "name": "stdout",
     "output_type": "stream",
     "text": [
      "                 ride_id  rideable_type           started_at  \\\n",
      "0       EC2DE40644C6B0F4   classic_bike  2022-05-23 23:06:58   \n",
      "1       1C31AD03897EE385   classic_bike  2022-05-11 08:53:28   \n",
      "2       1542FBEC830415CF   classic_bike  2022-05-26 18:36:28   \n",
      "3       6FF59852924528F8   classic_bike  2022-05-10 07:30:07   \n",
      "4       483C52CAAE12E3AC   classic_bike  2022-05-10 17:31:56   \n",
      "...                  ...            ...                  ...   \n",
      "804347  5E5C9CD681E0419C   classic_bike  2021-08-07 18:07:43   \n",
      "804348  96FB57CF4AA456F6  electric_bike  2021-08-09 08:49:31   \n",
      "804349  226A0910DCCE904C   classic_bike  2021-08-12 16:55:57   \n",
      "804350  1A97D27AE23DE1E7   classic_bike  2021-08-08 22:47:43   \n",
      "804351  BBC36E4AA3652361  electric_bike  2021-08-27 18:53:53   \n",
      "\n",
      "                   ended_at                 start_station_name  \\\n",
      "0       2022-05-23 23:40:19             Wabash Ave & Grand Ave   \n",
      "1       2022-05-11 09:31:22  DuSable Lake Shore Dr & Monroe St   \n",
      "2       2022-05-26 18:58:18            Clinton St & Madison St   \n",
      "3       2022-05-10 07:38:49            Clinton St & Madison St   \n",
      "4       2022-05-10 17:36:57            Clinton St & Madison St   \n",
      "...                     ...                                ...   \n",
      "804347  2021-08-07 18:21:21           Wells St & Evergreen Ave   \n",
      "804348  2021-08-09 09:03:51             Broadway & Sheridan Rd   \n",
      "804349  2021-08-12 17:15:10             Dearborn St & Adams St   \n",
      "804350  2021-08-08 23:08:12             Broadway & Sheridan Rd   \n",
      "804351  2021-08-27 19:02:16            Paulina Ave & North Ave   \n",
      "\n",
      "       start_station_id             end_station_name end_station_id  \\\n",
      "0          TA1307000117       Halsted St & Roscoe St   TA1309000025   \n",
      "1                 13300  Field Blvd & South Water St          15534   \n",
      "2          TA1305000032      Wood St & Milwaukee Ave          13221   \n",
      "3          TA1305000032       Clark St & Randolph St   TA1305000030   \n",
      "4          TA1305000032          Morgan St & Lake St   TA1306000015   \n",
      "...                 ...                          ...            ...   \n",
      "804347     TA1308000049  Lincoln Ave & Diversey Pkwy   TA1307000064   \n",
      "804348            13323       Clark St & Lincoln Ave          13179   \n",
      "804349     TA1305000005       Clark St & Lincoln Ave          13179   \n",
      "804350            13323      Clark St & Winnemac Ave   TA1309000035   \n",
      "804351     TA1305000037        Dayton St & North Ave          13058   \n",
      "\n",
      "        start_lat  start_lng    end_lat    end_lng member_casual  \n",
      "0       41.891466 -87.626761  41.943670 -87.648950        member  \n",
      "1       41.880958 -87.616743  41.886349 -87.617517        member  \n",
      "2       41.882242 -87.641066  41.907655 -87.672552        member  \n",
      "3       41.882242 -87.641066  41.884576 -87.631890        member  \n",
      "4       41.882242 -87.641066  41.885779 -87.651025        member  \n",
      "...           ...        ...        ...        ...           ...  \n",
      "804347  41.906724 -87.634830  41.932225 -87.658617        member  \n",
      "804348  41.952709 -87.649940  41.915973 -87.634762        member  \n",
      "804349  41.879356 -87.629791  41.915689 -87.634600        member  \n",
      "804350  41.952833 -87.649993  41.973348 -87.667855        casual  \n",
      "804351  41.909851 -87.669808  41.910674 -87.649547        casual  \n",
      "\n",
      "[5901463 rows x 13 columns]\n"
     ]
    }
   ],
   "source": [
    "# All the tables have the same structure, so I apply union to create one table.\n",
    "df1 = dataframes['202205-divvy-tripdata']\n",
    "df2 = dataframes['202109-divvy-tripdata']\n",
    "df3 = dataframes['202206-divvy-tripdata']\n",
    "df4 = dataframes['202111-divvy-tripdata']\n",
    "df5 = dataframes['202112-divvy-tripdata']\n",
    "df6 = dataframes['202203-divvy-tripdata']\n",
    "df7 = dataframes['202202-divvy-tripdata']\n",
    "df8 = dataframes['202201-divvy-tripdata']\n",
    "df9 = dataframes['202110-divvy-tripdata']\n",
    "df10 = dataframes['202207-divvy-tripdata']\n",
    "df11 = dataframes['202204-divvy-tripdata']\n",
    "df12 = dataframes['202108-divvy-tripdata']\n",
    "union = pd.concat([df1, df2, df3, df4, df5, df6, df7, df8, df9, df10, df11, df12])\n",
    "print(union)"
   ]
  },
  {
   "cell_type": "code",
   "execution_count": 45,
   "id": "9e5b6d3d",
   "metadata": {},
   "outputs": [
    {
     "data": {
      "text/html": [
       "<div>\n",
       "<style scoped>\n",
       "    .dataframe tbody tr th:only-of-type {\n",
       "        vertical-align: middle;\n",
       "    }\n",
       "\n",
       "    .dataframe tbody tr th {\n",
       "        vertical-align: top;\n",
       "    }\n",
       "\n",
       "    .dataframe thead th {\n",
       "        text-align: right;\n",
       "    }\n",
       "</style>\n",
       "<table border=\"1\" class=\"dataframe\">\n",
       "  <thead>\n",
       "    <tr style=\"text-align: right;\">\n",
       "      <th></th>\n",
       "      <th>ride_id</th>\n",
       "      <th>rideable_type</th>\n",
       "      <th>started_at</th>\n",
       "      <th>ended_at</th>\n",
       "      <th>start_station_name</th>\n",
       "      <th>start_station_id</th>\n",
       "      <th>end_station_name</th>\n",
       "      <th>end_station_id</th>\n",
       "      <th>member_casual</th>\n",
       "    </tr>\n",
       "  </thead>\n",
       "  <tbody>\n",
       "    <tr>\n",
       "      <th>804347</th>\n",
       "      <td>5E5C9CD681E0419C</td>\n",
       "      <td>classic_bike</td>\n",
       "      <td>2021-08-07 18:07:43</td>\n",
       "      <td>2021-08-07 18:21:21</td>\n",
       "      <td>Wells St &amp; Evergreen Ave</td>\n",
       "      <td>TA1308000049</td>\n",
       "      <td>Lincoln Ave &amp; Diversey Pkwy</td>\n",
       "      <td>TA1307000064</td>\n",
       "      <td>member</td>\n",
       "    </tr>\n",
       "    <tr>\n",
       "      <th>804348</th>\n",
       "      <td>96FB57CF4AA456F6</td>\n",
       "      <td>electric_bike</td>\n",
       "      <td>2021-08-09 08:49:31</td>\n",
       "      <td>2021-08-09 09:03:51</td>\n",
       "      <td>Broadway &amp; Sheridan Rd</td>\n",
       "      <td>13323</td>\n",
       "      <td>Clark St &amp; Lincoln Ave</td>\n",
       "      <td>13179</td>\n",
       "      <td>member</td>\n",
       "    </tr>\n",
       "    <tr>\n",
       "      <th>804349</th>\n",
       "      <td>226A0910DCCE904C</td>\n",
       "      <td>classic_bike</td>\n",
       "      <td>2021-08-12 16:55:57</td>\n",
       "      <td>2021-08-12 17:15:10</td>\n",
       "      <td>Dearborn St &amp; Adams St</td>\n",
       "      <td>TA1305000005</td>\n",
       "      <td>Clark St &amp; Lincoln Ave</td>\n",
       "      <td>13179</td>\n",
       "      <td>member</td>\n",
       "    </tr>\n",
       "    <tr>\n",
       "      <th>804350</th>\n",
       "      <td>1A97D27AE23DE1E7</td>\n",
       "      <td>classic_bike</td>\n",
       "      <td>2021-08-08 22:47:43</td>\n",
       "      <td>2021-08-08 23:08:12</td>\n",
       "      <td>Broadway &amp; Sheridan Rd</td>\n",
       "      <td>13323</td>\n",
       "      <td>Clark St &amp; Winnemac Ave</td>\n",
       "      <td>TA1309000035</td>\n",
       "      <td>casual</td>\n",
       "    </tr>\n",
       "    <tr>\n",
       "      <th>804351</th>\n",
       "      <td>BBC36E4AA3652361</td>\n",
       "      <td>electric_bike</td>\n",
       "      <td>2021-08-27 18:53:53</td>\n",
       "      <td>2021-08-27 19:02:16</td>\n",
       "      <td>Paulina Ave &amp; North Ave</td>\n",
       "      <td>TA1305000037</td>\n",
       "      <td>Dayton St &amp; North Ave</td>\n",
       "      <td>13058</td>\n",
       "      <td>casual</td>\n",
       "    </tr>\n",
       "  </tbody>\n",
       "</table>\n",
       "</div>"
      ],
      "text/plain": [
       "                 ride_id  rideable_type           started_at  \\\n",
       "804347  5E5C9CD681E0419C   classic_bike  2021-08-07 18:07:43   \n",
       "804348  96FB57CF4AA456F6  electric_bike  2021-08-09 08:49:31   \n",
       "804349  226A0910DCCE904C   classic_bike  2021-08-12 16:55:57   \n",
       "804350  1A97D27AE23DE1E7   classic_bike  2021-08-08 22:47:43   \n",
       "804351  BBC36E4AA3652361  electric_bike  2021-08-27 18:53:53   \n",
       "\n",
       "                   ended_at        start_station_name start_station_id  \\\n",
       "804347  2021-08-07 18:21:21  Wells St & Evergreen Ave     TA1308000049   \n",
       "804348  2021-08-09 09:03:51    Broadway & Sheridan Rd            13323   \n",
       "804349  2021-08-12 17:15:10    Dearborn St & Adams St     TA1305000005   \n",
       "804350  2021-08-08 23:08:12    Broadway & Sheridan Rd            13323   \n",
       "804351  2021-08-27 19:02:16   Paulina Ave & North Ave     TA1305000037   \n",
       "\n",
       "                   end_station_name end_station_id member_casual  \n",
       "804347  Lincoln Ave & Diversey Pkwy   TA1307000064        member  \n",
       "804348       Clark St & Lincoln Ave          13179        member  \n",
       "804349       Clark St & Lincoln Ave          13179        member  \n",
       "804350      Clark St & Winnemac Ave   TA1309000035        casual  \n",
       "804351        Dayton St & North Ave          13058        casual  "
      ]
     },
     "execution_count": 45,
     "metadata": {},
     "output_type": "execute_result"
    }
   ],
   "source": [
    "# I delete columns which I won't work in my analysis with.\n",
    "union = union.drop(columns=['start_lat','start_lng','end_lat','end_lng'])\n",
    "union.tail()"
   ]
  },
  {
   "cell_type": "code",
   "execution_count": 48,
   "id": "4a16eefc",
   "metadata": {},
   "outputs": [
    {
     "data": {
      "text/plain": [
       "ride_id               object\n",
       "rideable_type         object\n",
       "started_at            object\n",
       "ended_at              object\n",
       "start_station_name    object\n",
       "start_station_id      object\n",
       "end_station_name      object\n",
       "end_station_id        object\n",
       "member_casual         object\n",
       "dtype: object"
      ]
     },
     "execution_count": 48,
     "metadata": {},
     "output_type": "execute_result"
    }
   ],
   "source": [
    "# Check for the datatypes of each column.\n",
    "union.dtypes"
   ]
  },
  {
   "cell_type": "code",
   "execution_count": 49,
   "id": "314fa82f",
   "metadata": {},
   "outputs": [],
   "source": [
    "# Convert datatypes.\n",
    "union['started_at'] = union['started_at'].astype('datetime64')\n",
    "union['ended_at'] = union['ended_at'].astype('datetime64')"
   ]
  },
  {
   "cell_type": "code",
   "execution_count": 57,
   "id": "ee9e75ce",
   "metadata": {},
   "outputs": [
    {
     "data": {
      "text/html": [
       "<div>\n",
       "<style scoped>\n",
       "    .dataframe tbody tr th:only-of-type {\n",
       "        vertical-align: middle;\n",
       "    }\n",
       "\n",
       "    .dataframe tbody tr th {\n",
       "        vertical-align: top;\n",
       "    }\n",
       "\n",
       "    .dataframe thead th {\n",
       "        text-align: right;\n",
       "    }\n",
       "</style>\n",
       "<table border=\"1\" class=\"dataframe\">\n",
       "  <thead>\n",
       "    <tr style=\"text-align: right;\">\n",
       "      <th></th>\n",
       "      <th>ride_id</th>\n",
       "      <th>rideable_type</th>\n",
       "      <th>started_at</th>\n",
       "      <th>ended_at</th>\n",
       "      <th>start_station_name</th>\n",
       "      <th>start_station_id</th>\n",
       "      <th>end_station_name</th>\n",
       "      <th>end_station_id</th>\n",
       "      <th>member_casual</th>\n",
       "      <th>ride_duration</th>\n",
       "    </tr>\n",
       "  </thead>\n",
       "  <tbody>\n",
       "    <tr>\n",
       "      <th>0</th>\n",
       "      <td>EC2DE40644C6B0F4</td>\n",
       "      <td>classic_bike</td>\n",
       "      <td>2022-05-23 23:06:58</td>\n",
       "      <td>2022-05-23 23:40:19</td>\n",
       "      <td>Wabash Ave &amp; Grand Ave</td>\n",
       "      <td>TA1307000117</td>\n",
       "      <td>Halsted St &amp; Roscoe St</td>\n",
       "      <td>TA1309000025</td>\n",
       "      <td>member</td>\n",
       "      <td>33</td>\n",
       "    </tr>\n",
       "    <tr>\n",
       "      <th>1</th>\n",
       "      <td>1C31AD03897EE385</td>\n",
       "      <td>classic_bike</td>\n",
       "      <td>2022-05-11 08:53:28</td>\n",
       "      <td>2022-05-11 09:31:22</td>\n",
       "      <td>DuSable Lake Shore Dr &amp; Monroe St</td>\n",
       "      <td>13300</td>\n",
       "      <td>Field Blvd &amp; South Water St</td>\n",
       "      <td>15534</td>\n",
       "      <td>member</td>\n",
       "      <td>37</td>\n",
       "    </tr>\n",
       "    <tr>\n",
       "      <th>2</th>\n",
       "      <td>1542FBEC830415CF</td>\n",
       "      <td>classic_bike</td>\n",
       "      <td>2022-05-26 18:36:28</td>\n",
       "      <td>2022-05-26 18:58:18</td>\n",
       "      <td>Clinton St &amp; Madison St</td>\n",
       "      <td>TA1305000032</td>\n",
       "      <td>Wood St &amp; Milwaukee Ave</td>\n",
       "      <td>13221</td>\n",
       "      <td>member</td>\n",
       "      <td>21</td>\n",
       "    </tr>\n",
       "    <tr>\n",
       "      <th>3</th>\n",
       "      <td>6FF59852924528F8</td>\n",
       "      <td>classic_bike</td>\n",
       "      <td>2022-05-10 07:30:07</td>\n",
       "      <td>2022-05-10 07:38:49</td>\n",
       "      <td>Clinton St &amp; Madison St</td>\n",
       "      <td>TA1305000032</td>\n",
       "      <td>Clark St &amp; Randolph St</td>\n",
       "      <td>TA1305000030</td>\n",
       "      <td>member</td>\n",
       "      <td>8</td>\n",
       "    </tr>\n",
       "    <tr>\n",
       "      <th>4</th>\n",
       "      <td>483C52CAAE12E3AC</td>\n",
       "      <td>classic_bike</td>\n",
       "      <td>2022-05-10 17:31:56</td>\n",
       "      <td>2022-05-10 17:36:57</td>\n",
       "      <td>Clinton St &amp; Madison St</td>\n",
       "      <td>TA1305000032</td>\n",
       "      <td>Morgan St &amp; Lake St</td>\n",
       "      <td>TA1306000015</td>\n",
       "      <td>member</td>\n",
       "      <td>5</td>\n",
       "    </tr>\n",
       "    <tr>\n",
       "      <th>...</th>\n",
       "      <td>...</td>\n",
       "      <td>...</td>\n",
       "      <td>...</td>\n",
       "      <td>...</td>\n",
       "      <td>...</td>\n",
       "      <td>...</td>\n",
       "      <td>...</td>\n",
       "      <td>...</td>\n",
       "      <td>...</td>\n",
       "      <td>...</td>\n",
       "    </tr>\n",
       "    <tr>\n",
       "      <th>804347</th>\n",
       "      <td>5E5C9CD681E0419C</td>\n",
       "      <td>classic_bike</td>\n",
       "      <td>2021-08-07 18:07:43</td>\n",
       "      <td>2021-08-07 18:21:21</td>\n",
       "      <td>Wells St &amp; Evergreen Ave</td>\n",
       "      <td>TA1308000049</td>\n",
       "      <td>Lincoln Ave &amp; Diversey Pkwy</td>\n",
       "      <td>TA1307000064</td>\n",
       "      <td>member</td>\n",
       "      <td>13</td>\n",
       "    </tr>\n",
       "    <tr>\n",
       "      <th>804348</th>\n",
       "      <td>96FB57CF4AA456F6</td>\n",
       "      <td>electric_bike</td>\n",
       "      <td>2021-08-09 08:49:31</td>\n",
       "      <td>2021-08-09 09:03:51</td>\n",
       "      <td>Broadway &amp; Sheridan Rd</td>\n",
       "      <td>13323</td>\n",
       "      <td>Clark St &amp; Lincoln Ave</td>\n",
       "      <td>13179</td>\n",
       "      <td>member</td>\n",
       "      <td>14</td>\n",
       "    </tr>\n",
       "    <tr>\n",
       "      <th>804349</th>\n",
       "      <td>226A0910DCCE904C</td>\n",
       "      <td>classic_bike</td>\n",
       "      <td>2021-08-12 16:55:57</td>\n",
       "      <td>2021-08-12 17:15:10</td>\n",
       "      <td>Dearborn St &amp; Adams St</td>\n",
       "      <td>TA1305000005</td>\n",
       "      <td>Clark St &amp; Lincoln Ave</td>\n",
       "      <td>13179</td>\n",
       "      <td>member</td>\n",
       "      <td>19</td>\n",
       "    </tr>\n",
       "    <tr>\n",
       "      <th>804350</th>\n",
       "      <td>1A97D27AE23DE1E7</td>\n",
       "      <td>classic_bike</td>\n",
       "      <td>2021-08-08 22:47:43</td>\n",
       "      <td>2021-08-08 23:08:12</td>\n",
       "      <td>Broadway &amp; Sheridan Rd</td>\n",
       "      <td>13323</td>\n",
       "      <td>Clark St &amp; Winnemac Ave</td>\n",
       "      <td>TA1309000035</td>\n",
       "      <td>casual</td>\n",
       "      <td>20</td>\n",
       "    </tr>\n",
       "    <tr>\n",
       "      <th>804351</th>\n",
       "      <td>BBC36E4AA3652361</td>\n",
       "      <td>electric_bike</td>\n",
       "      <td>2021-08-27 18:53:53</td>\n",
       "      <td>2021-08-27 19:02:16</td>\n",
       "      <td>Paulina Ave &amp; North Ave</td>\n",
       "      <td>TA1305000037</td>\n",
       "      <td>Dayton St &amp; North Ave</td>\n",
       "      <td>13058</td>\n",
       "      <td>casual</td>\n",
       "      <td>8</td>\n",
       "    </tr>\n",
       "  </tbody>\n",
       "</table>\n",
       "<p>5901463 rows × 10 columns</p>\n",
       "</div>"
      ],
      "text/plain": [
       "                 ride_id  rideable_type          started_at  \\\n",
       "0       EC2DE40644C6B0F4   classic_bike 2022-05-23 23:06:58   \n",
       "1       1C31AD03897EE385   classic_bike 2022-05-11 08:53:28   \n",
       "2       1542FBEC830415CF   classic_bike 2022-05-26 18:36:28   \n",
       "3       6FF59852924528F8   classic_bike 2022-05-10 07:30:07   \n",
       "4       483C52CAAE12E3AC   classic_bike 2022-05-10 17:31:56   \n",
       "...                  ...            ...                 ...   \n",
       "804347  5E5C9CD681E0419C   classic_bike 2021-08-07 18:07:43   \n",
       "804348  96FB57CF4AA456F6  electric_bike 2021-08-09 08:49:31   \n",
       "804349  226A0910DCCE904C   classic_bike 2021-08-12 16:55:57   \n",
       "804350  1A97D27AE23DE1E7   classic_bike 2021-08-08 22:47:43   \n",
       "804351  BBC36E4AA3652361  electric_bike 2021-08-27 18:53:53   \n",
       "\n",
       "                  ended_at                 start_station_name  \\\n",
       "0      2022-05-23 23:40:19             Wabash Ave & Grand Ave   \n",
       "1      2022-05-11 09:31:22  DuSable Lake Shore Dr & Monroe St   \n",
       "2      2022-05-26 18:58:18            Clinton St & Madison St   \n",
       "3      2022-05-10 07:38:49            Clinton St & Madison St   \n",
       "4      2022-05-10 17:36:57            Clinton St & Madison St   \n",
       "...                    ...                                ...   \n",
       "804347 2021-08-07 18:21:21           Wells St & Evergreen Ave   \n",
       "804348 2021-08-09 09:03:51             Broadway & Sheridan Rd   \n",
       "804349 2021-08-12 17:15:10             Dearborn St & Adams St   \n",
       "804350 2021-08-08 23:08:12             Broadway & Sheridan Rd   \n",
       "804351 2021-08-27 19:02:16            Paulina Ave & North Ave   \n",
       "\n",
       "       start_station_id             end_station_name end_station_id  \\\n",
       "0          TA1307000117       Halsted St & Roscoe St   TA1309000025   \n",
       "1                 13300  Field Blvd & South Water St          15534   \n",
       "2          TA1305000032      Wood St & Milwaukee Ave          13221   \n",
       "3          TA1305000032       Clark St & Randolph St   TA1305000030   \n",
       "4          TA1305000032          Morgan St & Lake St   TA1306000015   \n",
       "...                 ...                          ...            ...   \n",
       "804347     TA1308000049  Lincoln Ave & Diversey Pkwy   TA1307000064   \n",
       "804348            13323       Clark St & Lincoln Ave          13179   \n",
       "804349     TA1305000005       Clark St & Lincoln Ave          13179   \n",
       "804350            13323      Clark St & Winnemac Ave   TA1309000035   \n",
       "804351     TA1305000037        Dayton St & North Ave          13058   \n",
       "\n",
       "       member_casual  ride_duration  \n",
       "0             member             33  \n",
       "1             member             37  \n",
       "2             member             21  \n",
       "3             member              8  \n",
       "4             member              5  \n",
       "...              ...            ...  \n",
       "804347        member             13  \n",
       "804348        member             14  \n",
       "804349        member             19  \n",
       "804350        casual             20  \n",
       "804351        casual              8  \n",
       "\n",
       "[5901463 rows x 10 columns]"
      ]
     },
     "metadata": {},
     "output_type": "display_data"
    }
   ],
   "source": [
    "# Find out the duration of each ride. Int32: This Struct is used to represents 32-bit signed integer. The \n",
    "#Int32 can store both types of values including negative and positive between the ranges of -2147483648 to +2147483647.\n",
    "union['ride_duration'] = (union['ended_at'] - union['started_at'])/pd.Timedelta(minutes=1)\n",
    "union['ride_duration'] = union['ride_duration'].astype('int32')\n",
    "display(union)"
   ]
  },
  {
   "cell_type": "code",
   "execution_count": 58,
   "id": "20c0ee84",
   "metadata": {},
   "outputs": [
    {
     "data": {
      "text/html": [
       "<div>\n",
       "<style scoped>\n",
       "    .dataframe tbody tr th:only-of-type {\n",
       "        vertical-align: middle;\n",
       "    }\n",
       "\n",
       "    .dataframe tbody tr th {\n",
       "        vertical-align: top;\n",
       "    }\n",
       "\n",
       "    .dataframe thead th {\n",
       "        text-align: right;\n",
       "    }\n",
       "</style>\n",
       "<table border=\"1\" class=\"dataframe\">\n",
       "  <thead>\n",
       "    <tr style=\"text-align: right;\">\n",
       "      <th></th>\n",
       "      <th>ride_id</th>\n",
       "      <th>rideable_type</th>\n",
       "      <th>started_at</th>\n",
       "      <th>ended_at</th>\n",
       "      <th>start_station_name</th>\n",
       "      <th>start_station_id</th>\n",
       "      <th>end_station_name</th>\n",
       "      <th>end_station_id</th>\n",
       "      <th>member_casual</th>\n",
       "      <th>ride_duration</th>\n",
       "    </tr>\n",
       "  </thead>\n",
       "  <tbody>\n",
       "    <tr>\n",
       "      <th>585672</th>\n",
       "      <td>38B9F148CE80499B</td>\n",
       "      <td>electric_bike</td>\n",
       "      <td>2022-06-07 19:23:03</td>\n",
       "      <td>2022-06-07 17:05:38</td>\n",
       "      <td>NaN</td>\n",
       "      <td>NaN</td>\n",
       "      <td>NaN</td>\n",
       "      <td>NaN</td>\n",
       "      <td>casual</td>\n",
       "      <td>-137</td>\n",
       "    </tr>\n",
       "    <tr>\n",
       "      <th>126109</th>\n",
       "      <td>B897BE02B21FA75E</td>\n",
       "      <td>electric_bike</td>\n",
       "      <td>2022-06-07 19:15:39</td>\n",
       "      <td>2022-06-07 17:05:37</td>\n",
       "      <td>NaN</td>\n",
       "      <td>NaN</td>\n",
       "      <td>Kostner Ave &amp; North Ave</td>\n",
       "      <td>519</td>\n",
       "      <td>casual</td>\n",
       "      <td>-130</td>\n",
       "    </tr>\n",
       "    <tr>\n",
       "      <th>301277</th>\n",
       "      <td>BF114472ABA0289C</td>\n",
       "      <td>electric_bike</td>\n",
       "      <td>2022-06-07 19:14:47</td>\n",
       "      <td>2022-06-07 17:05:42</td>\n",
       "      <td>Base - 2132 W Hubbard</td>\n",
       "      <td>Hubbard Bike-checking (LBS-WH-TEST)</td>\n",
       "      <td>W Armitage Ave &amp; N Sheffield Ave</td>\n",
       "      <td>20254.0</td>\n",
       "      <td>member</td>\n",
       "      <td>-129</td>\n",
       "    </tr>\n",
       "    <tr>\n",
       "      <th>126532</th>\n",
       "      <td>072E947E156D142D</td>\n",
       "      <td>electric_bike</td>\n",
       "      <td>2022-06-07 19:14:46</td>\n",
       "      <td>2022-06-07 17:07:45</td>\n",
       "      <td>W Armitage Ave &amp; N Sheffield Ave</td>\n",
       "      <td>20254.0</td>\n",
       "      <td>W Armitage Ave &amp; N Sheffield Ave</td>\n",
       "      <td>20254.0</td>\n",
       "      <td>casual</td>\n",
       "      <td>-127</td>\n",
       "    </tr>\n",
       "    <tr>\n",
       "      <th>576451</th>\n",
       "      <td>BBD84670E05463A9</td>\n",
       "      <td>electric_bike</td>\n",
       "      <td>2022-06-07 19:11:33</td>\n",
       "      <td>2022-06-07 17:05:24</td>\n",
       "      <td>NaN</td>\n",
       "      <td>NaN</td>\n",
       "      <td>NaN</td>\n",
       "      <td>NaN</td>\n",
       "      <td>casual</td>\n",
       "      <td>-126</td>\n",
       "    </tr>\n",
       "    <tr>\n",
       "      <th>...</th>\n",
       "      <td>...</td>\n",
       "      <td>...</td>\n",
       "      <td>...</td>\n",
       "      <td>...</td>\n",
       "      <td>...</td>\n",
       "      <td>...</td>\n",
       "      <td>...</td>\n",
       "      <td>...</td>\n",
       "      <td>...</td>\n",
       "      <td>...</td>\n",
       "    </tr>\n",
       "    <tr>\n",
       "      <th>173598</th>\n",
       "      <td>C8DD5E89BE2DAD7B</td>\n",
       "      <td>docked_bike</td>\n",
       "      <td>2021-11-06 16:53:11</td>\n",
       "      <td>2021-12-01 00:10:54</td>\n",
       "      <td>Dearborn Pkwy &amp; Delaware Pl</td>\n",
       "      <td>TA1307000128</td>\n",
       "      <td>NaN</td>\n",
       "      <td>NaN</td>\n",
       "      <td>casual</td>\n",
       "      <td>34997</td>\n",
       "    </tr>\n",
       "    <tr>\n",
       "      <th>610068</th>\n",
       "      <td>94DD1FB2367EA8B6</td>\n",
       "      <td>docked_bike</td>\n",
       "      <td>2022-06-15 07:56:59</td>\n",
       "      <td>2022-07-10 04:57:37</td>\n",
       "      <td>Michigan Ave &amp; 14th St</td>\n",
       "      <td>TA1307000124</td>\n",
       "      <td>NaN</td>\n",
       "      <td>NaN</td>\n",
       "      <td>casual</td>\n",
       "      <td>35820</td>\n",
       "    </tr>\n",
       "    <tr>\n",
       "      <th>590027</th>\n",
       "      <td>DCFE0DB8022DFABC</td>\n",
       "      <td>docked_bike</td>\n",
       "      <td>2022-05-08 00:28:53</td>\n",
       "      <td>2022-06-02 04:46:41</td>\n",
       "      <td>Sheffield Ave &amp; Fullerton Ave</td>\n",
       "      <td>TA1306000016</td>\n",
       "      <td>NaN</td>\n",
       "      <td>NaN</td>\n",
       "      <td>casual</td>\n",
       "      <td>36257</td>\n",
       "    </tr>\n",
       "    <tr>\n",
       "      <th>360554</th>\n",
       "      <td>A310C7270FD730B6</td>\n",
       "      <td>docked_bike</td>\n",
       "      <td>2021-10-02 18:35:36</td>\n",
       "      <td>2021-10-31 01:00:37</td>\n",
       "      <td>Dusable Harbor</td>\n",
       "      <td>KA1503000064</td>\n",
       "      <td>Wells St &amp; Elm St</td>\n",
       "      <td>KA1504000135</td>\n",
       "      <td>casual</td>\n",
       "      <td>40705</td>\n",
       "    </tr>\n",
       "    <tr>\n",
       "      <th>192711</th>\n",
       "      <td>E25E58F5E94EE351</td>\n",
       "      <td>docked_bike</td>\n",
       "      <td>2021-08-01 18:53:10</td>\n",
       "      <td>2021-08-30 16:42:20</td>\n",
       "      <td>Michigan Ave &amp; Jackson Blvd</td>\n",
       "      <td>TA1309000002</td>\n",
       "      <td>Daley Center Plaza</td>\n",
       "      <td>TA1306000010</td>\n",
       "      <td>casual</td>\n",
       "      <td>41629</td>\n",
       "    </tr>\n",
       "  </tbody>\n",
       "</table>\n",
       "<p>5901463 rows × 10 columns</p>\n",
       "</div>"
      ],
      "text/plain": [
       "                 ride_id  rideable_type          started_at  \\\n",
       "585672  38B9F148CE80499B  electric_bike 2022-06-07 19:23:03   \n",
       "126109  B897BE02B21FA75E  electric_bike 2022-06-07 19:15:39   \n",
       "301277  BF114472ABA0289C  electric_bike 2022-06-07 19:14:47   \n",
       "126532  072E947E156D142D  electric_bike 2022-06-07 19:14:46   \n",
       "576451  BBD84670E05463A9  electric_bike 2022-06-07 19:11:33   \n",
       "...                  ...            ...                 ...   \n",
       "173598  C8DD5E89BE2DAD7B    docked_bike 2021-11-06 16:53:11   \n",
       "610068  94DD1FB2367EA8B6    docked_bike 2022-06-15 07:56:59   \n",
       "590027  DCFE0DB8022DFABC    docked_bike 2022-05-08 00:28:53   \n",
       "360554  A310C7270FD730B6    docked_bike 2021-10-02 18:35:36   \n",
       "192711  E25E58F5E94EE351    docked_bike 2021-08-01 18:53:10   \n",
       "\n",
       "                  ended_at                start_station_name  \\\n",
       "585672 2022-06-07 17:05:38                               NaN   \n",
       "126109 2022-06-07 17:05:37                               NaN   \n",
       "301277 2022-06-07 17:05:42             Base - 2132 W Hubbard   \n",
       "126532 2022-06-07 17:07:45  W Armitage Ave & N Sheffield Ave   \n",
       "576451 2022-06-07 17:05:24                               NaN   \n",
       "...                    ...                               ...   \n",
       "173598 2021-12-01 00:10:54       Dearborn Pkwy & Delaware Pl   \n",
       "610068 2022-07-10 04:57:37            Michigan Ave & 14th St   \n",
       "590027 2022-06-02 04:46:41     Sheffield Ave & Fullerton Ave   \n",
       "360554 2021-10-31 01:00:37                    Dusable Harbor   \n",
       "192711 2021-08-30 16:42:20       Michigan Ave & Jackson Blvd   \n",
       "\n",
       "                           start_station_id                  end_station_name  \\\n",
       "585672                                  NaN                               NaN   \n",
       "126109                                  NaN           Kostner Ave & North Ave   \n",
       "301277  Hubbard Bike-checking (LBS-WH-TEST)  W Armitage Ave & N Sheffield Ave   \n",
       "126532                              20254.0  W Armitage Ave & N Sheffield Ave   \n",
       "576451                                  NaN                               NaN   \n",
       "...                                     ...                               ...   \n",
       "173598                         TA1307000128                               NaN   \n",
       "610068                         TA1307000124                               NaN   \n",
       "590027                         TA1306000016                               NaN   \n",
       "360554                         KA1503000064                 Wells St & Elm St   \n",
       "192711                         TA1309000002                Daley Center Plaza   \n",
       "\n",
       "       end_station_id member_casual  ride_duration  \n",
       "585672            NaN        casual           -137  \n",
       "126109            519        casual           -130  \n",
       "301277        20254.0        member           -129  \n",
       "126532        20254.0        casual           -127  \n",
       "576451            NaN        casual           -126  \n",
       "...               ...           ...            ...  \n",
       "173598            NaN        casual          34997  \n",
       "610068            NaN        casual          35820  \n",
       "590027            NaN        casual          36257  \n",
       "360554   KA1504000135        casual          40705  \n",
       "192711   TA1306000010        casual          41629  \n",
       "\n",
       "[5901463 rows x 10 columns]"
      ]
     },
     "execution_count": 58,
     "metadata": {},
     "output_type": "execute_result"
    }
   ],
   "source": [
    "union.sort_values(by = 'ride_duration')"
   ]
  },
  {
   "cell_type": "code",
   "execution_count": 59,
   "id": "422f77e6",
   "metadata": {},
   "outputs": [
    {
     "data": {
      "text/plain": [
       "ride_id               96\n",
       "rideable_type         96\n",
       "started_at            96\n",
       "ended_at              96\n",
       "start_station_name    74\n",
       "start_station_id      74\n",
       "end_station_name      72\n",
       "end_station_id        72\n",
       "member_casual         96\n",
       "ride_duration         96\n",
       "dtype: int64"
      ]
     },
     "execution_count": 59,
     "metadata": {},
     "output_type": "execute_result"
    }
   ],
   "source": [
    "union[union['ride_duration'] < 0].count()"
   ]
  },
  {
   "cell_type": "code",
   "execution_count": 61,
   "id": "91b6c70b",
   "metadata": {},
   "outputs": [],
   "source": [
    "# Drop rows with the negative value\n",
    "union = pd.DataFrame(union)\n",
    "union1 = union.loc[union['ride_duration']>=0]"
   ]
  },
  {
   "cell_type": "code",
   "execution_count": 62,
   "id": "bdd1afa1",
   "metadata": {},
   "outputs": [
    {
     "data": {
      "text/plain": [
       "ride_id               0\n",
       "rideable_type         0\n",
       "started_at            0\n",
       "ended_at              0\n",
       "start_station_name    0\n",
       "start_station_id      0\n",
       "end_station_name      0\n",
       "end_station_id        0\n",
       "member_casual         0\n",
       "ride_duration         0\n",
       "dtype: int64"
      ]
     },
     "execution_count": 62,
     "metadata": {},
     "output_type": "execute_result"
    }
   ],
   "source": [
    "union1[union1['ride_duration'] < 0].count()"
   ]
  },
  {
   "cell_type": "code",
   "execution_count": 64,
   "id": "b7622267",
   "metadata": {},
   "outputs": [
    {
     "data": {
      "text/plain": [
       "ride_id               104463\n",
       "rideable_type         104463\n",
       "started_at            104463\n",
       "ended_at              104463\n",
       "start_station_name     78488\n",
       "start_station_id       78488\n",
       "end_station_name       70905\n",
       "end_station_id         70905\n",
       "member_casual         104463\n",
       "ride_duration         104463\n",
       "dtype: int64"
      ]
     },
     "execution_count": 64,
     "metadata": {},
     "output_type": "execute_result"
    }
   ],
   "source": [
    "# False starts - the company should find out why this happen. \n",
    "# I report this issue in the analysis and delete these rows\n",
    "union1[union1['ride_duration'] < 1].count()"
   ]
  },
  {
   "cell_type": "code",
   "execution_count": 65,
   "id": "44278447",
   "metadata": {},
   "outputs": [
    {
     "data": {
      "text/plain": [
       "ride_id               0\n",
       "rideable_type         0\n",
       "started_at            0\n",
       "ended_at              0\n",
       "start_station_name    0\n",
       "start_station_id      0\n",
       "end_station_name      0\n",
       "end_station_id        0\n",
       "member_casual         0\n",
       "ride_duration         0\n",
       "dtype: int64"
      ]
     },
     "execution_count": 65,
     "metadata": {},
     "output_type": "execute_result"
    }
   ],
   "source": [
    "union1 = pd.DataFrame(union1)\n",
    "union2 = union1.loc[union1['ride_duration']>1]\n",
    "union2[union2['ride_duration'] < 1].count()"
   ]
  },
  {
   "cell_type": "code",
   "execution_count": 72,
   "id": "f654f156",
   "metadata": {},
   "outputs": [
    {
     "name": "stdout",
     "output_type": "stream",
     "text": [
      "start_station_id\n",
      "021320           128\n",
      "1011              31\n",
      "1012               4\n",
      "1013               7\n",
      "1016               1\n",
      "                ... \n",
      "chargingstx0      49\n",
      "chargingstx1    4686\n",
      "chargingstx3    5214\n",
      "chargingstx4    2942\n",
      "chargingstx5    3152\n",
      "Name: ride_id, Length: 1224, dtype: int64\n"
     ]
    }
   ],
   "source": [
    "n_start_rides = union2.groupby('start_station_id')['ride_id'].count()\n",
    "print(n_start_rides)"
   ]
  },
  {
   "cell_type": "code",
   "execution_count": 81,
   "id": "5b5cdc98",
   "metadata": {},
   "outputs": [
    {
     "name": "stdout",
     "output_type": "stream",
     "text": [
      "member_casual\n",
      "casual    2456702\n",
      "member    3245180\n",
      "Name: ride_id, dtype: int64\n"
     ]
    }
   ],
   "source": [
    "member_rides = union2.groupby('member_casual')['ride_id'].count()\n",
    "print(member_rides)"
   ]
  },
  {
   "cell_type": "code",
   "execution_count": 84,
   "id": "99a37ea8",
   "metadata": {},
   "outputs": [
    {
     "name": "stdout",
     "output_type": "stream",
     "text": [
      "<class 'pandas.core.frame.DataFrame'>\n",
      "Int64Index: 5701882 entries, 0 to 804351\n",
      "Data columns (total 10 columns):\n",
      " #   Column              Dtype         \n",
      "---  ------              -----         \n",
      " 0   ride_id             string        \n",
      " 1   rideable_type       category      \n",
      " 2   started_at          datetime64[ns]\n",
      " 3   ended_at            datetime64[ns]\n",
      " 4   start_station_name  string        \n",
      " 5   start_station_id    string        \n",
      " 6   end_station_name    string        \n",
      " 7   end_station_id      string        \n",
      " 8   member_casual       category      \n",
      " 9   ride_duration       int32         \n",
      "dtypes: category(2), datetime64[ns](2), int32(1), string(5)\n",
      "memory usage: 380.6 MB\n"
     ]
    }
   ],
   "source": [
    "# Convert datatypes for each column.\n",
    "union2 = union2.astype({'ride_id':'string','start_station_name':'string','start_station_id':'string','end_station_name':'string','end_station_id':'string','rideable_type':'category', 'member_casual':'category'})\n",
    "union2.info()"
   ]
  },
  {
   "cell_type": "code",
   "execution_count": 85,
   "id": "69a1afce",
   "metadata": {},
   "outputs": [
    {
     "data": {
      "text/plain": [
       "ride_id                    0\n",
       "rideable_type              0\n",
       "started_at                 0\n",
       "ended_at                   0\n",
       "start_station_name    812554\n",
       "start_station_id      812552\n",
       "end_station_name      862401\n",
       "end_station_id        862401\n",
       "member_casual              0\n",
       "ride_duration              0\n",
       "dtype: int64"
      ]
     },
     "execution_count": 85,
     "metadata": {},
     "output_type": "execute_result"
    }
   ],
   "source": [
    "# Print null values\n",
    "union2.isna().sum()"
   ]
  },
  {
   "cell_type": "code",
   "execution_count": 86,
   "id": "918f3ef5",
   "metadata": {},
   "outputs": [
    {
     "data": {
      "text/plain": [
       "(5701882, 10)"
      ]
     },
     "execution_count": 86,
     "metadata": {},
     "output_type": "execute_result"
    }
   ],
   "source": [
    "union2.shape"
   ]
  },
  {
   "cell_type": "code",
   "execution_count": 87,
   "id": "a5730000",
   "metadata": {},
   "outputs": [
    {
     "data": {
      "text/plain": [
       "ride_id               0\n",
       "rideable_type         0\n",
       "started_at            0\n",
       "ended_at              0\n",
       "start_station_name    0\n",
       "start_station_id      0\n",
       "end_station_name      0\n",
       "end_station_id        0\n",
       "member_casual         0\n",
       "ride_duration         0\n",
       "dtype: int64"
      ]
     },
     "execution_count": 87,
     "metadata": {},
     "output_type": "execute_result"
    }
   ],
   "source": [
    "# Drop all rows with any NaN and NaT values\n",
    "union3 = union2.dropna()\n",
    "union3.isna().sum()"
   ]
  },
  {
   "cell_type": "code",
   "execution_count": 88,
   "id": "3d72133f",
   "metadata": {},
   "outputs": [
    {
     "data": {
      "text/plain": [
       "(4494737, 10)"
      ]
     },
     "execution_count": 88,
     "metadata": {},
     "output_type": "execute_result"
    }
   ],
   "source": [
    "# Number of rows and columns\n",
    "union3.shape"
   ]
  },
  {
   "cell_type": "code",
   "execution_count": 97,
   "id": "980e0bcf",
   "metadata": {},
   "outputs": [
    {
     "name": "stdout",
     "output_type": "stream",
     "text": [
      "                 ride_id  rideable_type          started_at  \\\n",
      "0       EC2DE40644C6B0F4   classic_bike 2022-05-23 23:06:58   \n",
      "1       1C31AD03897EE385   classic_bike 2022-05-11 08:53:28   \n",
      "2       1542FBEC830415CF   classic_bike 2022-05-26 18:36:28   \n",
      "3       6FF59852924528F8   classic_bike 2022-05-10 07:30:07   \n",
      "4       483C52CAAE12E3AC   classic_bike 2022-05-10 17:31:56   \n",
      "...                  ...            ...                 ...   \n",
      "804347  5E5C9CD681E0419C   classic_bike 2021-08-07 18:07:43   \n",
      "804348  96FB57CF4AA456F6  electric_bike 2021-08-09 08:49:31   \n",
      "804349  226A0910DCCE904C   classic_bike 2021-08-12 16:55:57   \n",
      "804350  1A97D27AE23DE1E7   classic_bike 2021-08-08 22:47:43   \n",
      "804351  BBC36E4AA3652361  electric_bike 2021-08-27 18:53:53   \n",
      "\n",
      "                  ended_at                 start_station_name  \\\n",
      "0      2022-05-23 23:40:19             Wabash Ave & Grand Ave   \n",
      "1      2022-05-11 09:31:22  DuSable Lake Shore Dr & Monroe St   \n",
      "2      2022-05-26 18:58:18            Clinton St & Madison St   \n",
      "3      2022-05-10 07:38:49            Clinton St & Madison St   \n",
      "4      2022-05-10 17:36:57            Clinton St & Madison St   \n",
      "...                    ...                                ...   \n",
      "804347 2021-08-07 18:21:21           Wells St & Evergreen Ave   \n",
      "804348 2021-08-09 09:03:51             Broadway & Sheridan Rd   \n",
      "804349 2021-08-12 17:15:10             Dearborn St & Adams St   \n",
      "804350 2021-08-08 23:08:12             Broadway & Sheridan Rd   \n",
      "804351 2021-08-27 19:02:16            Paulina Ave & North Ave   \n",
      "\n",
      "       start_station_id             end_station_name end_station_id  \\\n",
      "0          TA1307000117       Halsted St & Roscoe St   TA1309000025   \n",
      "1                 13300  Field Blvd & South Water St          15534   \n",
      "2          TA1305000032      Wood St & Milwaukee Ave          13221   \n",
      "3          TA1305000032       Clark St & Randolph St   TA1305000030   \n",
      "4          TA1305000032          Morgan St & Lake St   TA1306000015   \n",
      "...                 ...                          ...            ...   \n",
      "804347     TA1308000049  Lincoln Ave & Diversey Pkwy   TA1307000064   \n",
      "804348            13323       Clark St & Lincoln Ave          13179   \n",
      "804349     TA1305000005       Clark St & Lincoln Ave          13179   \n",
      "804350            13323      Clark St & Winnemac Ave   TA1309000035   \n",
      "804351     TA1305000037        Dayton St & North Ave          13058   \n",
      "\n",
      "       member_casual  ride_duration  \n",
      "0             member             33  \n",
      "1             member             37  \n",
      "2             member             21  \n",
      "3             member              8  \n",
      "4             member              5  \n",
      "...              ...            ...  \n",
      "804347        member             13  \n",
      "804348        member             14  \n",
      "804349        member             19  \n",
      "804350        casual             20  \n",
      "804351        casual              8  \n",
      "\n",
      "[4494737 rows x 10 columns]\n"
     ]
    },
    {
     "name": "stderr",
     "output_type": "stream",
     "text": [
      "/var/folders/rk/4r2mgfhd1qx8p9xhmf7v1wxr0000gp/T/ipykernel_49117/4245366568.py:1: SettingWithCopyWarning: \n",
      "A value is trying to be set on a copy of a slice from a DataFrame.\n",
      "Try using .loc[row_indexer,col_indexer] = value instead\n",
      "\n",
      "See the caveats in the documentation: https://pandas.pydata.org/pandas-docs/stable/user_guide/indexing.html#returning-a-view-versus-a-copy\n",
      "  union3['ride_id'] = union3['ride_id'].str.strip()\n"
     ]
    }
   ],
   "source": [
    "# Strip Leading and Trailing Space of the column ride_id\n",
    "union3['ride_id'] = union3['ride_id'].str.strip()\n",
    "print (union3)"
   ]
  },
  {
   "cell_type": "code",
   "execution_count": 98,
   "id": "e47646d2",
   "metadata": {},
   "outputs": [
    {
     "name": "stdout",
     "output_type": "stream",
     "text": [
      "                 ride_id  rideable_type          started_at  \\\n",
      "0       EC2DE40644C6B0F4   classic_bike 2022-05-23 23:06:58   \n",
      "1       1C31AD03897EE385   classic_bike 2022-05-11 08:53:28   \n",
      "2       1542FBEC830415CF   classic_bike 2022-05-26 18:36:28   \n",
      "3       6FF59852924528F8   classic_bike 2022-05-10 07:30:07   \n",
      "4       483C52CAAE12E3AC   classic_bike 2022-05-10 17:31:56   \n",
      "...                  ...            ...                 ...   \n",
      "804347  5E5C9CD681E0419C   classic_bike 2021-08-07 18:07:43   \n",
      "804348  96FB57CF4AA456F6  electric_bike 2021-08-09 08:49:31   \n",
      "804349  226A0910DCCE904C   classic_bike 2021-08-12 16:55:57   \n",
      "804350  1A97D27AE23DE1E7   classic_bike 2021-08-08 22:47:43   \n",
      "804351  BBC36E4AA3652361  electric_bike 2021-08-27 18:53:53   \n",
      "\n",
      "                  ended_at                 start_station_name  \\\n",
      "0      2022-05-23 23:40:19             Wabash Ave & Grand Ave   \n",
      "1      2022-05-11 09:31:22  DuSable Lake Shore Dr & Monroe St   \n",
      "2      2022-05-26 18:58:18            Clinton St & Madison St   \n",
      "3      2022-05-10 07:38:49            Clinton St & Madison St   \n",
      "4      2022-05-10 17:36:57            Clinton St & Madison St   \n",
      "...                    ...                                ...   \n",
      "804347 2021-08-07 18:21:21           Wells St & Evergreen Ave   \n",
      "804348 2021-08-09 09:03:51             Broadway & Sheridan Rd   \n",
      "804349 2021-08-12 17:15:10             Dearborn St & Adams St   \n",
      "804350 2021-08-08 23:08:12             Broadway & Sheridan Rd   \n",
      "804351 2021-08-27 19:02:16            Paulina Ave & North Ave   \n",
      "\n",
      "       start_station_id             end_station_name end_station_id  \\\n",
      "0          TA1307000117       Halsted St & Roscoe St   TA1309000025   \n",
      "1                 13300  Field Blvd & South Water St          15534   \n",
      "2          TA1305000032      Wood St & Milwaukee Ave          13221   \n",
      "3          TA1305000032       Clark St & Randolph St   TA1305000030   \n",
      "4          TA1305000032          Morgan St & Lake St   TA1306000015   \n",
      "...                 ...                          ...            ...   \n",
      "804347     TA1308000049  Lincoln Ave & Diversey Pkwy   TA1307000064   \n",
      "804348            13323       Clark St & Lincoln Ave          13179   \n",
      "804349     TA1305000005       Clark St & Lincoln Ave          13179   \n",
      "804350            13323      Clark St & Winnemac Ave   TA1309000035   \n",
      "804351     TA1305000037        Dayton St & North Ave          13058   \n",
      "\n",
      "       member_casual  ride_duration  \n",
      "0             member             33  \n",
      "1             member             37  \n",
      "2             member             21  \n",
      "3             member              8  \n",
      "4             member              5  \n",
      "...              ...            ...  \n",
      "804347        member             13  \n",
      "804348        member             14  \n",
      "804349        member             19  \n",
      "804350        casual             20  \n",
      "804351        casual              8  \n",
      "\n",
      "[4494737 rows x 10 columns]\n"
     ]
    },
    {
     "name": "stderr",
     "output_type": "stream",
     "text": [
      "/var/folders/rk/4r2mgfhd1qx8p9xhmf7v1wxr0000gp/T/ipykernel_49117/350550098.py:1: SettingWithCopyWarning: \n",
      "A value is trying to be set on a copy of a slice from a DataFrame.\n",
      "Try using .loc[row_indexer,col_indexer] = value instead\n",
      "\n",
      "See the caveats in the documentation: https://pandas.pydata.org/pandas-docs/stable/user_guide/indexing.html#returning-a-view-versus-a-copy\n",
      "  union3['start_station_id'] = union3['start_station_id'].str.strip()\n"
     ]
    }
   ],
   "source": [
    "# Strip Leading and Trailing Space of the column start_station_id\n",
    "union3['start_station_id'] = union3['start_station_id'].str.strip()\n",
    "print (union3)"
   ]
  },
  {
   "cell_type": "code",
   "execution_count": null,
   "id": "fd238ae8",
   "metadata": {},
   "outputs": [],
   "source": []
  },
  {
   "cell_type": "code",
   "execution_count": 99,
   "id": "8b27e9e6",
   "metadata": {
    "scrolled": true
   },
   "outputs": [
    {
     "name": "stdout",
     "output_type": "stream",
     "text": [
      "                 ride_id  rideable_type          started_at  \\\n",
      "0       EC2DE40644C6B0F4   classic_bike 2022-05-23 23:06:58   \n",
      "1       1C31AD03897EE385   classic_bike 2022-05-11 08:53:28   \n",
      "2       1542FBEC830415CF   classic_bike 2022-05-26 18:36:28   \n",
      "3       6FF59852924528F8   classic_bike 2022-05-10 07:30:07   \n",
      "4       483C52CAAE12E3AC   classic_bike 2022-05-10 17:31:56   \n",
      "...                  ...            ...                 ...   \n",
      "804347  5E5C9CD681E0419C   classic_bike 2021-08-07 18:07:43   \n",
      "804348  96FB57CF4AA456F6  electric_bike 2021-08-09 08:49:31   \n",
      "804349  226A0910DCCE904C   classic_bike 2021-08-12 16:55:57   \n",
      "804350  1A97D27AE23DE1E7   classic_bike 2021-08-08 22:47:43   \n",
      "804351  BBC36E4AA3652361  electric_bike 2021-08-27 18:53:53   \n",
      "\n",
      "                  ended_at                 start_station_name  \\\n",
      "0      2022-05-23 23:40:19             Wabash Ave & Grand Ave   \n",
      "1      2022-05-11 09:31:22  DuSable Lake Shore Dr & Monroe St   \n",
      "2      2022-05-26 18:58:18            Clinton St & Madison St   \n",
      "3      2022-05-10 07:38:49            Clinton St & Madison St   \n",
      "4      2022-05-10 17:36:57            Clinton St & Madison St   \n",
      "...                    ...                                ...   \n",
      "804347 2021-08-07 18:21:21           Wells St & Evergreen Ave   \n",
      "804348 2021-08-09 09:03:51             Broadway & Sheridan Rd   \n",
      "804349 2021-08-12 17:15:10             Dearborn St & Adams St   \n",
      "804350 2021-08-08 23:08:12             Broadway & Sheridan Rd   \n",
      "804351 2021-08-27 19:02:16            Paulina Ave & North Ave   \n",
      "\n",
      "       start_station_id             end_station_name end_station_id  \\\n",
      "0          TA1307000117       Halsted St & Roscoe St   TA1309000025   \n",
      "1                 13300  Field Blvd & South Water St          15534   \n",
      "2          TA1305000032      Wood St & Milwaukee Ave          13221   \n",
      "3          TA1305000032       Clark St & Randolph St   TA1305000030   \n",
      "4          TA1305000032          Morgan St & Lake St   TA1306000015   \n",
      "...                 ...                          ...            ...   \n",
      "804347     TA1308000049  Lincoln Ave & Diversey Pkwy   TA1307000064   \n",
      "804348            13323       Clark St & Lincoln Ave          13179   \n",
      "804349     TA1305000005       Clark St & Lincoln Ave          13179   \n",
      "804350            13323      Clark St & Winnemac Ave   TA1309000035   \n",
      "804351     TA1305000037        Dayton St & North Ave          13058   \n",
      "\n",
      "       member_casual  ride_duration  \n",
      "0             member             33  \n",
      "1             member             37  \n",
      "2             member             21  \n",
      "3             member              8  \n",
      "4             member              5  \n",
      "...              ...            ...  \n",
      "804347        member             13  \n",
      "804348        member             14  \n",
      "804349        member             19  \n",
      "804350        casual             20  \n",
      "804351        casual              8  \n",
      "\n",
      "[4494737 rows x 10 columns]\n"
     ]
    },
    {
     "name": "stderr",
     "output_type": "stream",
     "text": [
      "/var/folders/rk/4r2mgfhd1qx8p9xhmf7v1wxr0000gp/T/ipykernel_49117/871422641.py:1: SettingWithCopyWarning: \n",
      "A value is trying to be set on a copy of a slice from a DataFrame.\n",
      "Try using .loc[row_indexer,col_indexer] = value instead\n",
      "\n",
      "See the caveats in the documentation: https://pandas.pydata.org/pandas-docs/stable/user_guide/indexing.html#returning-a-view-versus-a-copy\n",
      "  union3['end_station_id'] = union3['end_station_id'].str.strip()\n"
     ]
    }
   ],
   "source": [
    "# Strip Leading and Trailing Space of the column end_station_id\n",
    "union3['end_station_id'] = union3['end_station_id'].str.strip()\n",
    "print (union3)"
   ]
  },
  {
   "cell_type": "code",
   "execution_count": 117,
   "id": "04b8198b",
   "metadata": {},
   "outputs": [
    {
     "data": {
      "text/html": [
       "<div>\n",
       "<style scoped>\n",
       "    .dataframe tbody tr th:only-of-type {\n",
       "        vertical-align: middle;\n",
       "    }\n",
       "\n",
       "    .dataframe tbody tr th {\n",
       "        vertical-align: top;\n",
       "    }\n",
       "\n",
       "    .dataframe thead th {\n",
       "        text-align: right;\n",
       "    }\n",
       "</style>\n",
       "<table border=\"1\" class=\"dataframe\">\n",
       "  <thead>\n",
       "    <tr style=\"text-align: right;\">\n",
       "      <th></th>\n",
       "      <th>ride_id</th>\n",
       "      <th>rideable_type</th>\n",
       "      <th>started_at</th>\n",
       "      <th>ended_at</th>\n",
       "      <th>start_station_name</th>\n",
       "      <th>start_station_id</th>\n",
       "      <th>end_station_name</th>\n",
       "      <th>end_station_id</th>\n",
       "      <th>member_casual</th>\n",
       "      <th>ride_duration</th>\n",
       "      <th>journey</th>\n",
       "    </tr>\n",
       "  </thead>\n",
       "  <tbody>\n",
       "  </tbody>\n",
       "</table>\n",
       "</div>"
      ],
      "text/plain": [
       "Empty DataFrame\n",
       "Columns: [ride_id, rideable_type, started_at, ended_at, start_station_name, start_station_id, end_station_name, end_station_id, member_casual, ride_duration, journey]\n",
       "Index: []"
      ]
     },
     "execution_count": 117,
     "metadata": {},
     "output_type": "execute_result"
    }
   ],
   "source": [
    "# Remove duplicates according primary key\n",
    "union3[union3['ride_id'].duplicated()]"
   ]
  },
  {
   "cell_type": "code",
   "execution_count": 103,
   "id": "c63fed5f",
   "metadata": {},
   "outputs": [
    {
     "data": {
      "text/plain": [
       "start_station_name\n",
       "Wabash Ave & Grand Ave                  28582\n",
       "DuSable Lake Shore Dr & Monroe St       40277\n",
       "Clinton St & Madison St                 25092\n",
       "Carpenter St & Huron St                 11021\n",
       "Noble St & Milwaukee Ave                 8944\n",
       "                                        ...  \n",
       "Sangamon St & 79th St                       1\n",
       "Western Ave & 111th St - SW                 1\n",
       "Public Rack - Al Raby School                1\n",
       "Public Rack - Stony Island & 87th St        1\n",
       "351                                         1\n",
       "Name: ride_id, Length: 1295, dtype: int64"
      ]
     },
     "execution_count": 103,
     "metadata": {},
     "output_type": "execute_result"
    }
   ],
   "source": [
    "union3.groupby(\"start_station_name\", sort=False)[\"ride_id\"].count()"
   ]
  },
  {
   "cell_type": "code",
   "execution_count": 116,
   "id": "5f58d477",
   "metadata": {},
   "outputs": [
    {
     "data": {
      "text/plain": [
       "start_station_id\n",
       "TA1307000117    28582\n",
       "13300           40277\n",
       "TA1305000032    25092\n",
       "13196           11021\n",
       "13290            8944\n",
       "                ...  \n",
       "934                 1\n",
       "887                 1\n",
       "679                 1\n",
       "940                 1\n",
       "DIVVY 001           1\n",
       "Name: ride_id, Length: 1161, dtype: int64"
      ]
     },
     "execution_count": 116,
     "metadata": {},
     "output_type": "execute_result"
    }
   ],
   "source": [
    "# Top used start_station_id by ride_id count\n",
    "union3.groupby(\"start_station_id\", sort=False)[\"ride_id\"].count()"
   ]
  },
  {
   "cell_type": "code",
   "execution_count": 103,
   "id": "bafa587b",
   "metadata": {},
   "outputs": [
    {
     "data": {
      "text/plain": [
       "start_station_name\n",
       "Wabash Ave & Grand Ave                  28582\n",
       "DuSable Lake Shore Dr & Monroe St       40277\n",
       "Clinton St & Madison St                 25092\n",
       "Carpenter St & Huron St                 11021\n",
       "Noble St & Milwaukee Ave                 8944\n",
       "                                        ...  \n",
       "Sangamon St & 79th St                       1\n",
       "Western Ave & 111th St - SW                 1\n",
       "Public Rack - Al Raby School                1\n",
       "Public Rack - Stony Island & 87th St        1\n",
       "351                                         1\n",
       "Name: ride_id, Length: 1295, dtype: int64"
      ]
     },
     "execution_count": 103,
     "metadata": {},
     "output_type": "execute_result"
    }
   ],
   "source": [
    "# Top used start_station_name by ride_id count\n",
    "union3.groupby(\"start_station_name\", sort=False)[\"ride_id\"].count()"
   ]
  },
  {
   "cell_type": "code",
   "execution_count": 107,
   "id": "63d4b41d",
   "metadata": {},
   "outputs": [
    {
     "data": {
      "text/plain": [
       "end_station_name\n",
       "Halsted St & Roscoe St                               21311\n",
       "Field Blvd & South Water St                          12551\n",
       "Wood St & Milwaukee Ave                              15228\n",
       "Clark St & Randolph St                               14926\n",
       "Morgan St & Lake St                                  19804\n",
       "                                                     ...  \n",
       "Public Rack - Cicero Ave & Le Moyne St - midblock        1\n",
       "Michigan Ave & 113th St                                  1\n",
       "Halsted St & 80th St                                     1\n",
       "Public Rack - Laramie Ave & Warwick Ave                  1\n",
       "Ada St & 119th St                                        1\n",
       "Name: ride_id, Length: 1314, dtype: int64"
      ]
     },
     "execution_count": 107,
     "metadata": {},
     "output_type": "execute_result"
    }
   ],
   "source": [
    "# Top used end_station_id by ride_id count\n",
    "union3.groupby(\"end_station_name\", sort=False)[\"ride_id\"].count()"
   ]
  },
  {
   "cell_type": "code",
   "execution_count": 106,
   "id": "51e86fdf",
   "metadata": {},
   "outputs": [
    {
     "data": {
      "text/plain": [
       "member_casual\n",
       "casual    26.677002\n",
       "member    12.532500\n",
       "Name: ride_duration, dtype: float64"
      ]
     },
     "execution_count": 106,
     "metadata": {},
     "output_type": "execute_result"
    }
   ],
   "source": [
    "# Average ride_duration by users\n",
    "union3.groupby('member_casual',sort=True)['ride_duration'].mean()"
   ]
  },
  {
   "cell_type": "code",
   "execution_count": 109,
   "id": "2e80606c",
   "metadata": {},
   "outputs": [
    {
     "name": "stdout",
     "output_type": "stream",
     "text": [
      "                 ride_id  rideable_type          started_at  \\\n",
      "0       EC2DE40644C6B0F4   classic_bike 2022-05-23 23:06:58   \n",
      "1       1C31AD03897EE385   classic_bike 2022-05-11 08:53:28   \n",
      "2       1542FBEC830415CF   classic_bike 2022-05-26 18:36:28   \n",
      "3       6FF59852924528F8   classic_bike 2022-05-10 07:30:07   \n",
      "4       483C52CAAE12E3AC   classic_bike 2022-05-10 17:31:56   \n",
      "...                  ...            ...                 ...   \n",
      "804347  5E5C9CD681E0419C   classic_bike 2021-08-07 18:07:43   \n",
      "804348  96FB57CF4AA456F6  electric_bike 2021-08-09 08:49:31   \n",
      "804349  226A0910DCCE904C   classic_bike 2021-08-12 16:55:57   \n",
      "804350  1A97D27AE23DE1E7   classic_bike 2021-08-08 22:47:43   \n",
      "804351  BBC36E4AA3652361  electric_bike 2021-08-27 18:53:53   \n",
      "\n",
      "                  ended_at                 start_station_name  \\\n",
      "0      2022-05-23 23:40:19             Wabash Ave & Grand Ave   \n",
      "1      2022-05-11 09:31:22  DuSable Lake Shore Dr & Monroe St   \n",
      "2      2022-05-26 18:58:18            Clinton St & Madison St   \n",
      "3      2022-05-10 07:38:49            Clinton St & Madison St   \n",
      "4      2022-05-10 17:36:57            Clinton St & Madison St   \n",
      "...                    ...                                ...   \n",
      "804347 2021-08-07 18:21:21           Wells St & Evergreen Ave   \n",
      "804348 2021-08-09 09:03:51             Broadway & Sheridan Rd   \n",
      "804349 2021-08-12 17:15:10             Dearborn St & Adams St   \n",
      "804350 2021-08-08 23:08:12             Broadway & Sheridan Rd   \n",
      "804351 2021-08-27 19:02:16            Paulina Ave & North Ave   \n",
      "\n",
      "       start_station_id             end_station_name end_station_id  \\\n",
      "0          TA1307000117       Halsted St & Roscoe St   TA1309000025   \n",
      "1                 13300  Field Blvd & South Water St          15534   \n",
      "2          TA1305000032      Wood St & Milwaukee Ave          13221   \n",
      "3          TA1305000032       Clark St & Randolph St   TA1305000030   \n",
      "4          TA1305000032          Morgan St & Lake St   TA1306000015   \n",
      "...                 ...                          ...            ...   \n",
      "804347     TA1308000049  Lincoln Ave & Diversey Pkwy   TA1307000064   \n",
      "804348            13323       Clark St & Lincoln Ave          13179   \n",
      "804349     TA1305000005       Clark St & Lincoln Ave          13179   \n",
      "804350            13323      Clark St & Winnemac Ave   TA1309000035   \n",
      "804351     TA1305000037        Dayton St & North Ave          13058   \n",
      "\n",
      "       member_casual  ride_duration  \\\n",
      "0             member             33   \n",
      "1             member             37   \n",
      "2             member             21   \n",
      "3             member              8   \n",
      "4             member              5   \n",
      "...              ...            ...   \n",
      "804347        member             13   \n",
      "804348        member             14   \n",
      "804349        member             19   \n",
      "804350        casual             20   \n",
      "804351        casual              8   \n",
      "\n",
      "                                                  journey  \n",
      "0           Wabash Ave & Grand Ave-Halsted St & Roscoe St  \n",
      "1       DuSable Lake Shore Dr & Monroe St-Field Blvd &...  \n",
      "2         Clinton St & Madison St-Wood St & Milwaukee Ave  \n",
      "3          Clinton St & Madison St-Clark St & Randolph St  \n",
      "4             Clinton St & Madison St-Morgan St & Lake St  \n",
      "...                                                   ...  \n",
      "804347  Wells St & Evergreen Ave-Lincoln Ave & Diverse...  \n",
      "804348      Broadway & Sheridan Rd-Clark St & Lincoln Ave  \n",
      "804349      Dearborn St & Adams St-Clark St & Lincoln Ave  \n",
      "804350     Broadway & Sheridan Rd-Clark St & Winnemac Ave  \n",
      "804351      Paulina Ave & North Ave-Dayton St & North Ave  \n",
      "\n",
      "[4494737 rows x 11 columns]\n"
     ]
    },
    {
     "name": "stderr",
     "output_type": "stream",
     "text": [
      "/var/folders/rk/4r2mgfhd1qx8p9xhmf7v1wxr0000gp/T/ipykernel_49117/2056728282.py:2: SettingWithCopyWarning: \n",
      "A value is trying to be set on a copy of a slice from a DataFrame.\n",
      "Try using .loc[row_indexer,col_indexer] = value instead\n",
      "\n",
      "See the caveats in the documentation: https://pandas.pydata.org/pandas-docs/stable/user_guide/indexing.html#returning-a-view-versus-a-copy\n",
      "  union3[\"journey\"] = union3['start_station_name'].astype(str) +\"-\"+ union3[\"end_station_name\"]\n"
     ]
    }
   ],
   "source": [
    "# Combine to columns start_station_name & end_station_name to create new column \"journey\"\n",
    "union3[\"journey\"] = union3['start_station_name'].astype(str) +\"-\"+ union3[\"end_station_name\"]\n",
    "print(union3)"
   ]
  },
  {
   "cell_type": "code",
   "execution_count": 112,
   "id": "bdb9b3d1",
   "metadata": {},
   "outputs": [
    {
     "data": {
      "text/plain": [
       "journey\n",
       "Wabash Ave & Grand Ave-Halsted St & Roscoe St         64\n",
       "DuSable Lake Shore Dr & Monroe St-Field Blvd &...    315\n",
       "Clinton St & Madison St-Wood St & Milwaukee Ave       62\n",
       "Clinton St & Madison St-Clark St & Randolph St       131\n",
       "Clinton St & Madison St-Morgan St & Lake St          317\n",
       "                                                    ... \n",
       "Racine Ave & 13th St-Laramie Ave & Kinzie St           1\n",
       "Cottage Grove Ave & 51st St-Clark St & Lincoln...      1\n",
       "Kedzie Ave & 21st St-Loomis St & Lexington St          1\n",
       "Kedzie Ave & Chicago Ave-Dayton St & North Ave         1\n",
       "Wabash Ave & 16th St-Dayton St & North Ave             1\n",
       "Name: ride_id, Length: 167614, dtype: int64"
      ]
     },
     "execution_count": 112,
     "metadata": {},
     "output_type": "execute_result"
    }
   ],
   "source": [
    "# Top used journeys by ride_id count\n",
    "union3.groupby(\"journey\", sort=False)[\"ride_id\"].count()"
   ]
  },
  {
   "cell_type": "code",
   "execution_count": null,
   "id": "2f20ae65",
   "metadata": {},
   "outputs": [],
   "source": [
    "union3['year'] = union3['started_at'].dt.year\n",
    "\n",
    "cats1 = ['January', 'February', 'March', 'April', 'May', 'June', 'July', 'August', 'September', 'October', 'November', 'December']\n",
    "union3['month'] = union3['started_at'].dt.month_name()\n",
    "union3['month'] = union3['month'].astype(CategoricalDtype(categories=cats1, ordered=False))\n",
    "\n",
    "cats2 = ['Sunday', 'Monday', 'Tuesday', 'Wednesday', 'Thursday', 'Friday', 'Saturday']\n",
    "union3['day_of_week'] = union3['started_at'].dt.day_name()\n",
    "union3['day_of_week'] = union3['day_of_week'].astype(CategoricalDtype(categories=cats2, ordered=False))\n",
    "\n",
    "union3['hour'] = union3['started_at'].dt.hour\n",
    "union3 = union3.astype({'year':'int16', 'hour':'int8'})\n",
    "\n",
    "union3.head()\n"
   ]
  },
  {
   "cell_type": "code",
   "execution_count": null,
   "id": "e0f1789b",
   "metadata": {},
   "outputs": [],
   "source": []
  },
  {
   "cell_type": "code",
   "execution_count": null,
   "id": "54a1cf8f",
   "metadata": {},
   "outputs": [],
   "source": []
  }
 ],
 "metadata": {
  "kernelspec": {
   "display_name": "Python 3 (ipykernel)",
   "language": "python",
   "name": "python3"
  },
  "language_info": {
   "codemirror_mode": {
    "name": "ipython",
    "version": 3
   },
   "file_extension": ".py",
   "mimetype": "text/x-python",
   "name": "python",
   "nbconvert_exporter": "python",
   "pygments_lexer": "ipython3",
   "version": "3.9.12"
  }
 },
 "nbformat": 4,
 "nbformat_minor": 5
}
