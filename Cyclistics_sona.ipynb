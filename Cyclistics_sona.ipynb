{
 "cells": [
  {
   "cell_type": "code",
   "execution_count": 1,
   "id": "bc264986",
   "metadata": {},
   "outputs": [],
   "source": [
    "import pandas as pd\n",
    "import matplotlib.pyplot as plt\n",
    "import seaborn as sns\n",
    "import numpy as np\n",
    "import os\n",
    "\n",
    "sns.set_style(\"darkgrid\")"
   ]
  },
  {
   "cell_type": "code",
   "execution_count": 2,
   "id": "5ccf802d",
   "metadata": {},
   "outputs": [],
   "source": [
    "path = '/Users/SonaSolarova/Documents/STUDIUM/Google_Certificate/8_Capstone_Case Study/case_study_Cyclistic/unpacked_data/08_2021_07_2022'\n",
    "paths_list = [\n",
    "    os.path.join(path, f) for f in os.listdir(path)\n",
    "    if os.path.isfile(os.path.join(path, f))\n",
    "]"
   ]
  },
  {
   "cell_type": "code",
   "execution_count": 3,
   "id": "03b4ca40",
   "metadata": {},
   "outputs": [
    {
     "data": {
      "text/plain": [
       "dict_keys(['202205-divvy-tripdata', '202109-divvy-tripdata', '202206-divvy-tripdata', '202111-divvy-tripdata', '202112-divvy-tripdata', '202203-divvy-tripdata', '202202-divvy-tripdata', '202201-divvy-tripdata', '202110-divvy-tripdata', '202207-divvy-tripdata', '202204-divvy-tripdata', '202108-divvy-tripdata'])"
      ]
     },
     "execution_count": 3,
     "metadata": {},
     "output_type": "execute_result"
    }
   ],
   "source": [
    "dataframes = {}\n",
    "for i, f in enumerate(os.listdir(path)):\n",
    "    dataframes[f.split('.')[0]] = pd.read_csv(paths_list[i])\n",
    "dataframes.keys()"
   ]
  },
  {
   "cell_type": "code",
   "execution_count": 5,
   "id": "c72b6650",
   "metadata": {},
   "outputs": [
    {
     "name": "stdout",
     "output_type": "stream",
     "text": [
      "                 ride_id  rideable_type           started_at  \\\n",
      "0       EC2DE40644C6B0F4   classic_bike  2022-05-23 23:06:58   \n",
      "1       1C31AD03897EE385   classic_bike  2022-05-11 08:53:28   \n",
      "2       1542FBEC830415CF   classic_bike  2022-05-26 18:36:28   \n",
      "3       6FF59852924528F8   classic_bike  2022-05-10 07:30:07   \n",
      "4       483C52CAAE12E3AC   classic_bike  2022-05-10 17:31:56   \n",
      "...                  ...            ...                  ...   \n",
      "804347  5E5C9CD681E0419C   classic_bike  2021-08-07 18:07:43   \n",
      "804348  96FB57CF4AA456F6  electric_bike  2021-08-09 08:49:31   \n",
      "804349  226A0910DCCE904C   classic_bike  2021-08-12 16:55:57   \n",
      "804350  1A97D27AE23DE1E7   classic_bike  2021-08-08 22:47:43   \n",
      "804351  BBC36E4AA3652361  electric_bike  2021-08-27 18:53:53   \n",
      "\n",
      "                   ended_at                 start_station_name  \\\n",
      "0       2022-05-23 23:40:19             Wabash Ave & Grand Ave   \n",
      "1       2022-05-11 09:31:22  DuSable Lake Shore Dr & Monroe St   \n",
      "2       2022-05-26 18:58:18            Clinton St & Madison St   \n",
      "3       2022-05-10 07:38:49            Clinton St & Madison St   \n",
      "4       2022-05-10 17:36:57            Clinton St & Madison St   \n",
      "...                     ...                                ...   \n",
      "804347  2021-08-07 18:21:21           Wells St & Evergreen Ave   \n",
      "804348  2021-08-09 09:03:51             Broadway & Sheridan Rd   \n",
      "804349  2021-08-12 17:15:10             Dearborn St & Adams St   \n",
      "804350  2021-08-08 23:08:12             Broadway & Sheridan Rd   \n",
      "804351  2021-08-27 19:02:16            Paulina Ave & North Ave   \n",
      "\n",
      "       start_station_id             end_station_name end_station_id  \\\n",
      "0          TA1307000117       Halsted St & Roscoe St   TA1309000025   \n",
      "1                 13300  Field Blvd & South Water St          15534   \n",
      "2          TA1305000032      Wood St & Milwaukee Ave          13221   \n",
      "3          TA1305000032       Clark St & Randolph St   TA1305000030   \n",
      "4          TA1305000032          Morgan St & Lake St   TA1306000015   \n",
      "...                 ...                          ...            ...   \n",
      "804347     TA1308000049  Lincoln Ave & Diversey Pkwy   TA1307000064   \n",
      "804348            13323       Clark St & Lincoln Ave          13179   \n",
      "804349     TA1305000005       Clark St & Lincoln Ave          13179   \n",
      "804350            13323      Clark St & Winnemac Ave   TA1309000035   \n",
      "804351     TA1305000037        Dayton St & North Ave          13058   \n",
      "\n",
      "        start_lat  start_lng    end_lat    end_lng member_casual  \n",
      "0       41.891466 -87.626761  41.943670 -87.648950        member  \n",
      "1       41.880958 -87.616743  41.886349 -87.617517        member  \n",
      "2       41.882242 -87.641066  41.907655 -87.672552        member  \n",
      "3       41.882242 -87.641066  41.884576 -87.631890        member  \n",
      "4       41.882242 -87.641066  41.885779 -87.651025        member  \n",
      "...           ...        ...        ...        ...           ...  \n",
      "804347  41.906724 -87.634830  41.932225 -87.658617        member  \n",
      "804348  41.952709 -87.649940  41.915973 -87.634762        member  \n",
      "804349  41.879356 -87.629791  41.915689 -87.634600        member  \n",
      "804350  41.952833 -87.649993  41.973348 -87.667855        casual  \n",
      "804351  41.909851 -87.669808  41.910674 -87.649547        casual  \n",
      "\n",
      "[5901463 rows x 13 columns]\n"
     ]
    }
   ],
   "source": [
    "df1 = dataframes['202205-divvy-tripdata']\n",
    "df2 = dataframes['202109-divvy-tripdata']\n",
    "df3 = dataframes['202206-divvy-tripdata']\n",
    "df4 = dataframes['202111-divvy-tripdata']\n",
    "df5 = dataframes['202112-divvy-tripdata']\n",
    "df6 = dataframes['202203-divvy-tripdata']\n",
    "df7 = dataframes['202202-divvy-tripdata']\n",
    "df8 = dataframes['202201-divvy-tripdata']\n",
    "df9 = dataframes['202110-divvy-tripdata']\n",
    "df10 = dataframes['202207-divvy-tripdata']\n",
    "df11 = dataframes['202204-divvy-tripdata']\n",
    "df12 = dataframes['202108-divvy-tripdata']\n",
    "union = pd.concat([df1, df2, df3, df4, df5, df6, df7, df8, df9, df10, df11, df12])\n",
    "print(union)"
   ]
  },
  {
   "cell_type": "code",
   "execution_count": 6,
   "id": "66207216",
   "metadata": {},
   "outputs": [
    {
     "data": {
      "text/plain": [
       "1381"
      ]
     },
     "execution_count": 6,
     "metadata": {},
     "output_type": "execute_result"
    }
   ],
   "source": [
    "union['start_station_name'].nunique()"
   ]
  },
  {
   "cell_type": "code",
   "execution_count": 8,
   "id": "19c6983c",
   "metadata": {},
   "outputs": [
    {
     "data": {
      "text/plain": [
       "1396"
      ]
     },
     "execution_count": 8,
     "metadata": {},
     "output_type": "execute_result"
    }
   ],
   "source": [
    "union['end_station_name'].nunique()"
   ]
  },
  {
   "cell_type": "code",
   "execution_count": 9,
   "id": "158bf122",
   "metadata": {},
   "outputs": [
    {
     "data": {
      "text/plain": [
       "1226"
      ]
     },
     "execution_count": 9,
     "metadata": {},
     "output_type": "execute_result"
    }
   ],
   "source": [
    "union['start_station_id'].nunique()"
   ]
  },
  {
   "cell_type": "code",
   "execution_count": 10,
   "id": "0a13c08e",
   "metadata": {},
   "outputs": [
    {
     "data": {
      "text/plain": [
       "1236"
      ]
     },
     "execution_count": 10,
     "metadata": {},
     "output_type": "execute_result"
    }
   ],
   "source": [
    "union['end_station_id'].nunique()"
   ]
  },
  {
   "cell_type": "code",
   "execution_count": 11,
   "id": "a60d16f3",
   "metadata": {},
   "outputs": [
    {
     "data": {
      "text/plain": [
       "5901463"
      ]
     },
     "execution_count": 11,
     "metadata": {},
     "output_type": "execute_result"
    }
   ],
   "source": [
    "union['ride_id'].nunique()"
   ]
  },
  {
   "cell_type": "code",
   "execution_count": 13,
   "id": "06fcaf6a",
   "metadata": {},
   "outputs": [
    {
     "data": {
      "text/plain": [
       "member    3379237\n",
       "casual    2522226\n",
       "Name: member_casual, dtype: int64"
      ]
     },
     "execution_count": 13,
     "metadata": {},
     "output_type": "execute_result"
    }
   ],
   "source": [
    "union['member_casual'].value_counts()"
   ]
  },
  {
   "cell_type": "code",
   "execution_count": 28,
   "id": "210405a8",
   "metadata": {},
   "outputs": [
    {
     "ename": "SyntaxError",
     "evalue": "invalid syntax (146747603.py, line 1)",
     "output_type": "error",
     "traceback": [
      "\u001b[0;36m  Input \u001b[0;32mIn [28]\u001b[0;36m\u001b[0m\n\u001b[0;31m    git init\u001b[0m\n\u001b[0m        ^\u001b[0m\n\u001b[0;31mSyntaxError\u001b[0m\u001b[0;31m:\u001b[0m invalid syntax\n"
     ]
    }
   ],
   "source": [
    "git init\n",
    "git add README.md  \n",
    "git add GeeksForGeeks.ipynb\n",
    "git commit -m \"Cyclistic_Capstone_project\" \n",
    "git remote add origin https://github.com/{Sonita}/GeeksForGeeks.git \n",
    "git push -u origin master \n"
   ]
  },
  {
   "cell_type": "code",
   "execution_count": 23,
   "id": "9dcde1df",
   "metadata": {},
   "outputs": [],
   "source": []
  },
  {
   "cell_type": "code",
   "execution_count": null,
   "id": "e6b482d5",
   "metadata": {},
   "outputs": [],
   "source": []
  }
 ],
 "metadata": {
  "kernelspec": {
   "display_name": "Python 3 (ipykernel)",
   "language": "python",
   "name": "python3"
  },
  "language_info": {
   "codemirror_mode": {
    "name": "ipython",
    "version": 3
   },
   "file_extension": ".py",
   "mimetype": "text/x-python",
   "name": "python",
   "nbconvert_exporter": "python",
   "pygments_lexer": "ipython3",
   "version": "3.9.12"
  }
 },
 "nbformat": 4,
 "nbformat_minor": 5
}
